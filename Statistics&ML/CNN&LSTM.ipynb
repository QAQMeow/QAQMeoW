{
 "cells": [
  {
   "cell_type": "markdown",
   "metadata": {},
   "source": [
    "# 卷积神经网络（Convolutional Neural Network，CNN 或 ConvNet）\n",
    "\n"
   ]
  },
  {
   "cell_type": "markdown",
   "metadata": {},
   "source": [
    "<font size =3>\n",
    "    \n",
    "**卷积神经网络**是一种具有**局部连接、权重共享**以及**汇聚**等特性的深层前馈神经网络，这些特性使得卷积神经网络具有一定程度上的平移、缩放和旋转不变性。卷积神经网络主要使用在图像和视频分析的各种任务。"
   ]
  },
  {
   "cell_type": "markdown",
   "metadata": {},
   "source": [
    "## 卷积（Convolution）\n",
    "<font size =3>\n",
    "<br/>\n",
    " 卷积，是分析数学中一种重要的运算. 在信号处理或图像处理中，经常使用一维或二维卷积。\n",
    "\n",
    "**一维卷积**经常用在信号处理中，用于计算信号的延迟累积. 假设一个信号发生器每个时刻$𝑡$产生一个信号$𝑥_𝑡$，其信息的衰减率为$𝑤_𝑘$，即在$𝑘 − 1$个时间步长后，信息为原来的$𝑤_𝑘$倍. ，那么在时刻𝑡收到的信号$𝑦_𝑡$为当前时刻产生的信息和以前时刻延迟信息的叠加。\n",
    "我们把$𝑤_1,𝑤_2, ⋯$称为**滤波器（Filter）**或**卷积核（Convolution Kernel）**。 假设滤波器长度为𝐾(一般情况下滤波器的长度$K$远小于信号序列长度$N$),它和一个信号序列$x_1,x_2, ⋯$的卷积为\n",
    "\n",
    "$y_t = \\sum_{k=1}^{K}w_kx_{t-k+1}$\n",
    "\n",
    "信号序列$\\boldsymbol{s}$和滤波器$\\boldsymbol{w}$的卷积定义为:$\\boldsymbol{y}=\\boldsymbol{w}*\\boldsymbol{x}$<br/>\n",
    "\n",
    "更一般的：$n=\\tau+(n-\\tau)$<br/>\n",
    "连续一维卷积：$(f*g)(n) = \\int_{-\\infty}^{\\infty}f(\\tau)g(n-\\tau)d\\tau$\n",
    "\n",
    "离散一维卷积：$(f*g)(n) = \\sum_{\\tau=-\\infty}^{\\infty}f(\\tau)g(n-\\tau)$\n",
    "\n",
    "\n",
    "_当滤波器 $𝑤𝑘 = 1/𝐾, 1 ≤ 𝑘 ≤ 𝐾 $时，卷积相当于信号序列的简单移动平均（窗口大小为$𝐾$)_\n",
    "\n",
    "**二维卷积**经常用在图像处理中. 因为图像为一个二维结构，所以需要将一维卷积进行扩展。给定一个图像$\\boldsymbol{X}\\in \\Bbb R^{𝑀×𝑁}$ 和滤波器$\\boldsymbol{W}\\in \\Bbb R^{U×V}$，一般$𝑈 << 𝑀, 𝑉 << 𝑁$，其卷积为\n",
    "\n",
    "$y_{ij}=\\sum_{u=1}^U \\sum_{v=1}^V \\omega_{uv}x_{i-u_1,j-v+1}$\n",
    "\n",
    "更一般的<br/>\n",
    "连续二维卷积：$f(x,y)*g(x,y) =\\int_{\\tau_1=-\\infty}^{\\infty}\\int_{\\tau_2=-\\infty}^{\\infty}f(\\tau_1,\\tau_2\\cdot g(x-\\tau_1,y-\\tau_2)d\\tau_1d\\tau_2$\n",
    "\n",
    "离散二维卷积：$f[x,y]*g[x,y] =\\sum_{\\tau_1=-\\infty}^{\\infty}\\sum_{\\tau_2=-\\infty}^{\\infty}f[\\tau_1,\\tau_2]\\cdot g[x-\\tau_1,y-\\tau_2]$\n",
    "\n",
    "一个输入信息$\\boldsymbol{X}$和滤波器$\\boldsymbol{W}$的二维卷积定义为:\n",
    "\n",
    "$\\boldsymbol{Y} = \\boldsymbol{W}* \\boldsymbol{X}$\n",
    "\n",
    "在图像处理中，卷积经常作为特征提取的有效方法. 一幅图像在经过卷积操作后得到结果称为**特征映射（Feature Map）**。"
   ]
  },
  {
   "cell_type": "code",
   "execution_count": null,
   "metadata": {},
   "outputs": [],
   "source": []
  },
  {
   "cell_type": "code",
   "execution_count": null,
   "metadata": {},
   "outputs": [],
   "source": []
  },
  {
   "cell_type": "code",
   "execution_count": null,
   "metadata": {},
   "outputs": [],
   "source": []
  }
 ],
 "metadata": {
  "kernelspec": {
   "display_name": "Python 3",
   "language": "python",
   "name": "python3"
  },
  "language_info": {
   "codemirror_mode": {
    "name": "ipython",
    "version": 3
   },
   "file_extension": ".py",
   "mimetype": "text/x-python",
   "name": "python",
   "nbconvert_exporter": "python",
   "pygments_lexer": "ipython3",
   "version": "3.7.0"
  }
 },
 "nbformat": 4,
 "nbformat_minor": 2
}
