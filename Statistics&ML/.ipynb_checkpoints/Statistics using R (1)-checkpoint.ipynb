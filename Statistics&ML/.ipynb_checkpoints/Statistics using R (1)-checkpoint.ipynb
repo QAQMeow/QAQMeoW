{
 "cells": [
  {
   "cell_type": "markdown",
   "metadata": {},
   "source": [
    "## 数理统计基本概念"
   ]
  },
  {
   "cell_type": "markdown",
   "metadata": {},
   "source": [
    "<font size = 3>\n",
    "    \n",
    "与所研究问题有关的全部个体的确定集合称作**总体 (population)** ，其中个体数目有限，则称之为有限总体。个体数目无穷多的总体称为**无限总体** 。如果有限总体中个体数目足够大，也可近似地当作无限总体来处理。总体随所研究范围而定。\n",
    "\n",
    "总体内各数值出现的可能性所形成的概率分布称为**总体分布**。总体就是概率分布。\n",
    "\n",
    "**非参数总体** 总体分布几乎是未知的，仅仅知道它是连续型的或离散型的。\n",
    "\n",
    "**参数总体** 总体分布$F$的数学形式已知，仅有若干参数$\\theta=(\\theta_1,\\theta_2,\\theta_3,...\\theta_k)$未知，这\n",
    "样的总体被称为。未知参数$\\theta=(\\theta_1,\\theta_2,\\theta_3,...\\theta_k)^T$的所有可能取值称为**参数空间** 。\n",
    "\n",
    "以一定的方式从总体中抽取出若干个体（这些被抽取的个体称为**样本点**，它们的其中所含个体的数目称为**样本容量**或样本量，由于总体已经数量化了，所以样本的观察结果也是数值，称为**样本值**）构成的集合称为一个**样本**，由于抽样的随机性，每个样本点都是一个随机变量。样本量为 n的样本记作$X = (X_1,X_2,X_3,...,X_n)^T$，其分布称为**样本分布**，取决于总体分布、抽样方式和样本量。\n",
    "\n",
    "**简单随机样本** 如果样本$X_1,X_2,X_3,...,X_n$**独立同分布于总体分布**$F_\\theta(x)$，则称样本$X_1,X_2,X_3,...,X_n$为独立同分布样本或**简单随机样本**。\n",
    "\n",
    "**统计量** 完全由样本决定的量，不依赖于其他任何未知量（特别的，不依赖于总体分布中所包含的未知参数）\n",
    "\n",
    "</font>"
   ]
  },
  {
   "cell_type": "markdown",
   "metadata": {},
   "source": [
    "## 常用统计量"
   ]
  },
  {
   "cell_type": "markdown",
   "metadata": {},
   "source": [
    "### 矩\n",
    "<br/>\n",
    "<font size = 3>\n",
    "\n",
    "设$ X $和$Y $是随机变量,\n",
    "\n",
    "若$E(X^k), k = 1,2,3,...$\n",
    "\n",
    "存在，则称它为 $X$ 的 $k$阶原点矩，简称 $k$ 阶矩。\n",
    "\n",
    "若$E{[X-E(x)]^k}), k = 1,2,3,...$\n",
    "\n",
    "存在，则称它为$ X$ 的$ k$阶中心距。\n",
    "\n",
    "若$E(X^kY^l), k = 1,2,3,...$\n",
    "存在，则称它为 $X$ 和 $Y$ 的$ k+l$ 阶混合距。\n",
    "\n",
    "若$E{[X-E(X)]^k[Y-E(Y )]^l}, k = 1,2,3,...$\n",
    "\n",
    "存在，则称它为 $X$ 和 $Y$ 的$ k+l$ 阶混合中心距。\n",
    "\n",
    " $X$ 的**数学期望** $E(X)$ 是 $X$的**一阶原点矩**，**方差** $D(X)$ 是 $X$ 的**二阶中心矩**，**协方差** $Cov(X,Y)$ 是 $X$ 和$Y$ 的**二阶混合中心矩**。\n",
    "</font>"
   ]
  },
  {
   "cell_type": "markdown",
   "metadata": {},
   "source": [
    "### 均值\n",
    "<br/>\n",
    "<font size = 3>\n",
    "\n",
    "一阶原点矩又称**均值**是一组数据的平均值, **均值**（记为$\\bar x$）定义为\n",
    "\n",
    "$\\bar X =\\frac{1}{n}\\sum_{i=1}^n X_i$ \n",
    "\n",
    "用它来描述正态分布数据的集中趋势。"
   ]
  },
  {
   "cell_type": "code",
   "execution_count": 1,
   "metadata": {},
   "outputs": [
    {
     "data": {
      "text/html": [
       "138.64"
      ],
      "text/latex": [
       "138.64"
      ],
      "text/markdown": [
       "138.64"
      ],
      "text/plain": [
       "[1] 138.64"
      ]
     },
     "metadata": {},
     "output_type": "display_data"
    }
   ],
   "source": [
    "testdata <- c( 147,163,159,124,120,94,135,185,109,143,116,129,157,146,149,117, \n",
    "          127,124,160,101,129,130,154,151,119,128,147,127,122,145,159,141,131, \n",
    "          139,142,152,147,157,134,146,144,119,160,136 ,122,172,170,109,151,144) #数据\n",
    "data_mean <- mean(testdata)  #使用mean（）函数计算均值\n",
    "\n",
    "data_mean #均值"
   ]
  },
  {
   "cell_type": "markdown",
   "metadata": {},
   "source": [
    "### 中位数\n",
    "<br/>\n",
    "<font size =3 >\n",
    "\n",
    "实数 $x_1,x_2,...,x_n$ 按大小顺序（顺序，降序皆可）排列为$x_1',x_2',...,x_n'$<br/>\n",
    "实数数列 $x =x_1,x_2,...,x_n$的中位数 $Q_\\frac{1}{2}(x)$ 为<br/><br/>\n",
    "$Q_\\frac{1}{2}(x) =\\left\\{\n",
    "\\begin{aligned}\n",
    "&x_\\frac{n+1}{2}'&\\text{奇数}\\\\ \\\\\n",
    "&\\frac{1}{2}(x_\\frac{n}{2}'+x_{\\frac{n}{2}+1}') &\\text{偶数}\n",
    "\\end{aligned}\n",
    "\\right.$"
   ]
  },
  {
   "cell_type": "code",
   "execution_count": 2,
   "metadata": {},
   "outputs": [
    {
     "data": {
      "text/html": [
       "141.5"
      ],
      "text/latex": [
       "141.5"
      ],
      "text/markdown": [
       "141.5"
      ],
      "text/plain": [
       "[1] 141.5"
      ]
     },
     "metadata": {},
     "output_type": "display_data"
    }
   ],
   "source": [
    "data_median <- median(testdata)  #使用median（）函数求中位数\n",
    "data_median #中位数"
   ]
  },
  {
   "cell_type": "markdown",
   "metadata": {},
   "source": [
    "### 分位数及四分位差\n",
    "<br/>\n",
    "<font size =3 >\n",
    "\n",
    "**四分位数** 将一组数据由小到大（或由大到小）排序后，用3个点将全部数据分为4等份，与这3个点位置上相对应的数值称为四分位数，分别记为$Q1(QL)$（第一四分位数），说明数据中有25%的数据小于或等于$Q1，Q2$（第二四分位数，即中位数）说明数据中有50%的数据小于或等于$Q2、Q3(QU)$（第三四分位数）说明数据中有75%的数据小于或等于$Q3$。\n",
    "\n",
    "**四分位差** 上四分位数（$QU$，即位于 75%）与下四分位数（$QL$，即位于 25%）的差的一半\n",
    "$Qd = (QU − QL)/2$。四分位差反映了中间 50% 数据的离散程度，其数值越小，说明中间的数据越集中；其数值越大，说明中间的数据越分散。四分位差不受极值的影响。"
   ]
  },
  {
   "cell_type": "code",
   "execution_count": 3,
   "metadata": {},
   "outputs": [
    {
     "data": {
      "text/html": [
       "<style>\n",
       ".dl-inline {width: auto; margin:0; padding: 0}\n",
       ".dl-inline>dt, .dl-inline>dd {float: none; width: auto; display: inline-block}\n",
       ".dl-inline>dt::after {content: \":\\0020\"; padding-right: .5ex}\n",
       ".dl-inline>dt:not(:first-of-type) {padding-left: .5ex}\n",
       "</style><dl class=dl-inline><dt>0%</dt><dd>94</dd><dt>25%</dt><dd>124.75</dd><dt>50%</dt><dd>141.5</dd><dt>75%</dt><dd>151</dd><dt>100%</dt><dd>185</dd></dl>\n"
      ],
      "text/latex": [
       "\\begin{description*}\n",
       "\\item[0\\textbackslash{}\\%] 94\n",
       "\\item[25\\textbackslash{}\\%] 124.75\n",
       "\\item[50\\textbackslash{}\\%] 141.5\n",
       "\\item[75\\textbackslash{}\\%] 151\n",
       "\\item[100\\textbackslash{}\\%] 185\n",
       "\\end{description*}\n"
      ],
      "text/markdown": [
       "0%\n",
       ":   9425%\n",
       ":   124.7550%\n",
       ":   141.575%\n",
       ":   151100%\n",
       ":   185\n",
       "\n"
      ],
      "text/plain": [
       "    0%    25%    50%    75%   100% \n",
       " 94.00 124.75 141.50 151.00 185.00 "
      ]
     },
     "metadata": {},
     "output_type": "display_data"
    },
    {
     "name": "stdout",
     "output_type": "stream",
     "text": [
      "[1]  94.00 124.75 141.50 151.00 185.00\n",
      "[1] 13.125\n"
     ]
    }
   ],
   "source": [
    "Q <- quantile(testdata) #求分位数\n",
    "Q\n",
    "Q <- unname(Q) #去掉名称\n",
    "print(Q)\n",
    "Qd <- (Q[4]-Q[2])/2 #四分位差\n",
    "print(Qd)"
   ]
  },
  {
   "cell_type": "markdown",
   "metadata": {},
   "source": [
    "### 数学期望\n",
    "<br/>\n",
    "<font size = 3>\n",
    "\n",
    "**离散型随机变量** 离散型随机变量的一切可能的取值 $x_i$ 与对应的概率$P_i(X= x_i)$之积的和称为该离散型随机变量的数学期望，记为 $E(X)$。数学期\n",
    "望是最基本的数学特征之一。它反映随机变量平均取值的大小\n",
    "\n",
    "$E(X) = \\sum_{i}x_ip_i$\n",
    "\n",
    "**连续型随机变量** 若随机变量 X 的分布函数 F(x) 可表示成一个非负可积函数 $f(x)$ 的积分，则称$ X$ 为连续性随机变量，$f(x) $称为 $X$ 的概率密度函数，积分值为$ X$ 的数学期望，记为$ E(X)$。\n",
    "\n",
    "$E(X)=\\int _{-\\infty} ^{+\\infty}xf(x)dx$"
   ]
  },
  {
   "cell_type": "code",
   "execution_count": null,
   "metadata": {},
   "outputs": [],
   "source": []
  },
  {
   "cell_type": "markdown",
   "metadata": {},
   "source": [
    "### 方差\n",
    "<br/>\n",
    "<font size = 3>\n",
    "    \n",
    "**方差**是各个数据与平均数之差的平方的平均数，用来度量随机变量和其数学期望（即均值）之间的偏离程度。设 $X$为随机变量，如果 $E[X − E(X)]^2$ 存在，则称 $E[X − E(X)]^2$ 为 $X$ 的方差，记为 $Var(X)$。\n",
    "\n",
    "**离散型随机变量方差**计算公式为\n",
    "\n",
    "$Var(X) = E(X^2) − (E(X))^2$\n",
    "\n",
    "**连续型随机变量方差**计算公式为\n",
    "\n",
    "$Var(x) = \\int _{-\\infty} ^{+\\infty}(x-E(X))^2f(x)dx=E(X^2) − (E(X))^2$"
   ]
  },
  {
   "cell_type": "code",
   "execution_count": null,
   "metadata": {},
   "outputs": [],
   "source": [
    "\n"
   ]
  },
  {
   "cell_type": "markdown",
   "metadata": {},
   "source": [
    "### 众数\n",
    "<br/>\n",
    "<font size = 3>\n",
    "    \n",
    "**众数**观察资料中出现次数最多的数值或类别，不受极值影响，由于可能有不只一个，也可能没有众数，一般不适合进行统计分析"
   ]
  },
  {
   "cell_type": "code",
   "execution_count": null,
   "metadata": {},
   "outputs": [],
   "source": []
  },
  {
   "cell_type": "code",
   "execution_count": null,
   "metadata": {},
   "outputs": [],
   "source": [
    "### 协方差\n",
    "<br/>\n",
    "<font size = 3>"
   ]
  },
  {
   "cell_type": "code",
   "execution_count": null,
   "metadata": {},
   "outputs": [],
   "source": []
  },
  {
   "cell_type": "code",
   "execution_count": null,
   "metadata": {},
   "outputs": [],
   "source": [
    "### 相关系数\n",
    "<br/>\n",
    "<font size = 3>"
   ]
  },
  {
   "cell_type": "code",
   "execution_count": null,
   "metadata": {},
   "outputs": [],
   "source": []
  },
  {
   "cell_type": "markdown",
   "metadata": {},
   "source": [
    "### 偏度\n",
    "<br/>\n",
    "<font size = 3>"
   ]
  },
  {
   "cell_type": "code",
   "execution_count": null,
   "metadata": {},
   "outputs": [],
   "source": []
  },
  {
   "cell_type": "code",
   "execution_count": null,
   "metadata": {},
   "outputs": [],
   "source": [
    "### 峰度\n",
    "<br/>\n",
    "<font size = 3>"
   ]
  },
  {
   "cell_type": "code",
   "execution_count": null,
   "metadata": {},
   "outputs": [],
   "source": []
  },
  {
   "cell_type": "markdown",
   "metadata": {},
   "source": [
    "### 几何平均\n",
    "<br/>\n",
    "<font size = 3>"
   ]
  },
  {
   "cell_type": "code",
   "execution_count": null,
   "metadata": {},
   "outputs": [],
   "source": []
  },
  {
   "cell_type": "code",
   "execution_count": null,
   "metadata": {},
   "outputs": [],
   "source": [
    "### 变异系数\n",
    "<br/>\n",
    "<font size = 3>"
   ]
  },
  {
   "cell_type": "code",
   "execution_count": null,
   "metadata": {},
   "outputs": [],
   "source": []
  },
  {
   "cell_type": "code",
   "execution_count": null,
   "metadata": {},
   "outputs": [],
   "source": [
    "### 样本校正平方和\n",
    "<br/>\n",
    "<font size = 3>"
   ]
  },
  {
   "cell_type": "code",
   "execution_count": null,
   "metadata": {},
   "outputs": [],
   "source": []
  },
  {
   "cell_type": "code",
   "execution_count": null,
   "metadata": {},
   "outputs": [],
   "source": [
    "### 样本未校正平方和\n",
    "<br/>\n",
    "<font size = 3>"
   ]
  },
  {
   "cell_type": "code",
   "execution_count": null,
   "metadata": {},
   "outputs": [],
   "source": []
  },
  {
   "cell_type": "code",
   "execution_count": null,
   "metadata": {},
   "outputs": [],
   "source": [
    "### 标准误差\n",
    "<br/>\n",
    "<font size = 3>"
   ]
  },
  {
   "cell_type": "code",
   "execution_count": null,
   "metadata": {},
   "outputs": [],
   "source": []
  },
  {
   "cell_type": "code",
   "execution_count": null,
   "metadata": {},
   "outputs": [],
   "source": [
    "### 极差\n",
    "<br/>\n",
    "<font size = 3>"
   ]
  },
  {
   "cell_type": "code",
   "execution_count": null,
   "metadata": {},
   "outputs": [],
   "source": []
  },
  {
   "cell_type": "markdown",
   "metadata": {},
   "source": [
    "### 数据中心化和标准化\n",
    "<br/>\n",
    "<font size = 3>"
   ]
  },
  {
   "cell_type": "code",
   "execution_count": null,
   "metadata": {},
   "outputs": [],
   "source": []
  },
  {
   "cell_type": "code",
   "execution_count": null,
   "metadata": {},
   "outputs": [],
   "source": []
  },
  {
   "cell_type": "code",
   "execution_count": null,
   "metadata": {},
   "outputs": [],
   "source": []
  },
  {
   "cell_type": "code",
   "execution_count": null,
   "metadata": {},
   "outputs": [],
   "source": []
  }
 ],
 "metadata": {
  "kernelspec": {
   "display_name": "R",
   "language": "R",
   "name": "ir"
  },
  "language_info": {
   "codemirror_mode": "r",
   "file_extension": ".r",
   "mimetype": "text/x-r-source",
   "name": "R",
   "pygments_lexer": "r",
   "version": "4.1.2"
  }
 },
 "nbformat": 4,
 "nbformat_minor": 5
}
