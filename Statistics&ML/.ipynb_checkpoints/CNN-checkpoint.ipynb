{
 "cells": [
  {
   "cell_type": "markdown",
   "metadata": {},
   "source": [
    "# 卷积神经网络（Convolutional Neural Network，CNN 或 ConvNet）\n",
    "\n"
   ]
  },
  {
   "cell_type": "markdown",
   "metadata": {},
   "source": [
    "<font size =3>\n",
    "    \n",
    "**卷积神经网络**是一种具有**局部连接、权重共享**以及**汇聚**等特性的深层前馈神经网络，这些特性使得卷积神经网络具有一定程度上的平移、缩放和旋转不变性。卷积神经网络主要使用在图像和视频分析的各种任务。\n",
    "\n",
    "卷积神经网络是受生物学上感受野机制的启发而提出的。**感受野（Receptive Field）**机制主要是指听觉、视觉等神经系统中一些神经元的特性，即神经元只接受其所支配的刺激区域内的信号. 在视觉神经系统中，视觉皮层中的神经细胞的输出依赖于视网膜上的光感受器。视网膜上的光感受器受刺激兴奋时，将神经冲动信号传到视觉皮层，但不是所有视觉皮层中的神经元都会接受这些信号。一个神经元的感受野是指视网膜上的特定区域，只有这个区域内的刺激才能够激活该神经元。\n",
    "\n",
    "卷积神经网络的感受野：卷积神经网络每一层输出的特征图（Feature map）上的像素点在输入图片上映射的区域大小。 \n",
    "\n",
    "通俗点的解释：特征图上的一个点对应输入图上的区域。\n",
    "<img src=./Pic/感受野.png width = 500/>"
   ]
  },
  {
   "cell_type": "markdown",
   "metadata": {},
   "source": [
    "## 卷积（Convolution）\n",
    "<font size =3>\n",
    "<br/>\n",
    " 卷积，是分析数学中一种重要的运算. 在信号处理或图像处理中，经常使用一维或二维卷积。\n",
    "\n",
    "**一维卷积**经常用在信号处理中，用于计算信号的延迟累积. 假设一个信号发生器每个时刻$𝑡$产生一个信号$𝑥_𝑡$，其信息的衰减率为$𝑤_𝑘$，即在$𝑘 − 1$个时间步长后，信息为原来的$𝑤_𝑘$倍. ，那么在时刻𝑡收到的信号$𝑦_𝑡$为当前时刻产生的信息和以前时刻延迟信息的叠加。\n",
    "我们把$𝑤_1,𝑤_2, ⋯$称为**滤波器（Filter）**或**卷积核（Convolution Kernel）**。 假设滤波器长度为𝐾(一般情况下滤波器的长度$K$远小于信号序列长度$N$),它和一个信号序列$x_1,x_2, ⋯$的卷积为\n",
    "\n",
    "$y_t = \\sum_{k=1}^{K}w_kx_{t-k+1}$\n",
    "\n",
    "信号序列$\\boldsymbol{s}$和滤波器$\\boldsymbol{w}$的卷积定义为:$\\boldsymbol{y}=\\boldsymbol{w}*\\boldsymbol{x}$<br/>\n",
    "\n",
    "更一般的：$n=\\tau+(n-\\tau)$<br/>\n",
    "连续一维卷积：$(f*g)(n) = \\int_{-\\infty}^{\\infty}f(\\tau)g(n-\\tau)d\\tau$\n",
    "\n",
    "离散一维卷积：$(f*g)(n) = \\sum_{\\tau=-\\infty}^{\\infty}f(\\tau)g(n-\\tau)$\n",
    "\n",
    "\n",
    "_当滤波器 $𝑤𝑘 = 1/𝐾, 1 ≤ 𝑘 ≤ 𝐾 $时，卷积相当于信号序列的简单移动平均（窗口大小为$𝐾$)_\n",
    "\n",
    "**二维卷积**经常用在图像处理中. 因为图像为一个二维结构，所以需要将一维卷积进行扩展。给定一个图像$\\boldsymbol{X}\\in \\Bbb R^{𝑀×𝑁}$ 和滤波器$\\boldsymbol{W}\\in \\Bbb R^{U×V}$，一般$𝑈 << 𝑀, 𝑉 << 𝑁$，其卷积为\n",
    "\n",
    "$y_{ij}=\\sum_{u=1}^U \\sum_{v=1}^V \\omega_{uv}x_{i-u_1,j-v+1}$\n",
    "\n",
    "更一般的<br/>\n",
    "连续二维卷积：$f(x,y)*g(x,y) =\\int_{\\tau_1=-\\infty}^{\\infty}\\int_{\\tau_2=-\\infty}^{\\infty}f(\\tau_1,\\tau_2\\cdot g(x-\\tau_1,y-\\tau_2)d\\tau_1d\\tau_2$\n",
    "\n",
    "离散二维卷积：$f[x,y]*g[x,y] =\\sum_{\\tau_1=-\\infty}^{\\infty}\\sum_{\\tau_2=-\\infty}^{\\infty}f[\\tau_1,\\tau_2]\\cdot g[x-\\tau_1,y-\\tau_2]$\n",
    "\n",
    "一个输入信息$\\boldsymbol{X}$和滤波器$\\boldsymbol{W}$的二维卷积定义为:\n",
    "\n",
    "$\\boldsymbol{Y} = \\boldsymbol{W}* \\boldsymbol{X}$\n",
    "\n",
    "在图像处理中，卷积经常作为特征提取的有效方法. 一幅图像在经过卷积操作后得到结果称为**特征映射（Feature Map）**。特征映射为一幅图像（或其他特征映射）在经过卷积提取到的特征，每个特征映射可以作为一类抽取的图像特征。\n",
    "<img src=./Pic/CNN.gif width = 400/>\n",
    "$5×5$的矩阵A进行$3×3$的矩阵B的卷积，从最上角到右下角，生成卷积之后的矩阵的大小是$(5-3+1)×(5-3+1)$的矩阵，生成之后的矩阵的元素值，是之前的两个矩阵对应元素的乘积之和"
   ]
  },
  {
   "cell_type": "markdown",
   "metadata": {},
   "source": [
    "## 卷积网络结构\n",
    "<br/>\n",
    "<font size =3>\n",
    "    \n",
    "一个典型的卷积网络是由**卷积层（Convolutional layer）、汇聚层（Pooling Layer）、全连接层（Fully Connected Layer）**交叉堆叠而成.\n",
    "<img src=./Pic/CNN结构.png width = 800/>\n",
    "**卷积层**的作用是提取一个局部区域的特征，不同的卷积核相当于不同的特征提取器。\n",
    "参考：https://setosa.io/ev/image-kernels/\n",
    "\n",
    "浅层卷积层：提取的是图像基本特征，如边缘、方向和纹理等特征。\n",
    "\n",
    "深层卷积层：提取的是图像高阶特征，出现了高层语义模式， 如“车轮”、“人脸”等特征\n",
    "\n",
    "**汇聚层**也叫子采样层（Subsampling Layer）<br/>\n",
    "减少网络中的参数计算量，从而遏制过拟合。\n",
    "\n",
    "增强网络对输入图像中的小变形、扭曲、平移的鲁棒性(输入里的微小扭曲不会改变池化输出——因为我们在局部邻域已经取了最大值/平均值)。\n",
    "\n",
    "帮助我们获得不因尺寸而改变的等效图片表征。这非常有用，因为这样我们就可以探测到图片里的物体，不管它在哪个位置。\n",
    "\n",
    "<img src=./Pic/Pooling.gif width = 500/>\n",
    "\n",
    "上方左侧矩阵A是$20×20$的矩阵,进行大小为$10×10$的池化(汇聚)，左侧图中的红色就是$10×10$的大小，对应到右侧的矩阵，右侧每个元素的值，是左侧红色矩阵每个元素的值的和再除以红色矩阵的元素个数，即**平均汇聚（Mean Pooling）**。\n",
    "\n",
    "常用的汇聚函数有两种：\n",
    "1. **最大汇聚（Maximum Pooling 或 Max Pooling）**\n",
    "\n",
    "对于一个区域 $R_{m,n}^d$选择这个区域内所有神经元的最大活性值作为这个区域的表示。\n",
    "\n",
    "  $y_{m,n}^d = max(x_i),i\\in R_{m,n}^d$其中$x_i$ 为区域$R_k^d$内每个神经元的活性值。\n",
    "2. **平均汇聚（Mean Pooling）**\n",
    "\n",
    "一般是取区域内所有神经元活性值的平均值。 \n",
    "\n",
    "$y_{m,n}^d = \\frac{1}{|R_{m,n}|}\\sum_{i\\in R_{m,n}^d}x_i$\n",
    "\n",
    "对每一个输入特征映射$X^d$的 $M'× N'$ 个区域进行子采样，得到汇聚层的输出特征映射$𝒀_𝑑 = 𝑦_{𝑚,𝑛}^d, 1 ≤ 𝑚 ≤ 𝑀′, 1 ≤ 𝑛 ≤ 𝑁′$\n",
    "\n",
    "**全连接层**目的是对卷积层和池化层输出的特征图（二维）进行降维。使得与位置无关,将不同的区域特征合成为一个完整特征。\n",
    "\n",
    "**输出层**对于分类问题：使用Softmax函数，对于递归问题：使用线性函数。\n",
    "\n",
    "### 其他操作\n",
    "**数据填充：**\n",
    "如果我们有一$n×n$的图像，使用$f×f$的卷积核进行卷积操作，在进行卷积操作之前我们在图像周围填充𝑝层数据。步幅为s。\n",
    "<img src=./Pic/数据填充.png width = 400/>\n",
    "<img src=./Pic/数据填充2.png width = 400/>\n",
    "\n",
    "**卷积模式：** Full（刚开始相交进行卷积），Same（输入和输出保持不变的卷积，步长=1），Valid（在图像内进行卷积）\n",
    "<img src=./Pic/卷积模式.png width = 600/>\n",
    "\n",
    "_此外还有扩张（空洞）卷积，深度可分离卷积等_"
   ]
  },
  {
   "cell_type": "markdown",
   "metadata": {},
   "source": [
    "<br/>\n",
    "\n",
    "\n",
    "## CNN例子\n",
    "\n",
    "### 手写数字识别"
   ]
  },
  {
   "cell_type": "markdown",
   "metadata": {},
   "source": [
    "### 1. 导入需要的库"
   ]
  },
  {
   "cell_type": "code",
   "execution_count": 1,
   "metadata": {},
   "outputs": [],
   "source": [
    "import tensorflow as tf\n",
    "import gzip\n",
    "import numpy as np\n",
    "import matplotlib as mpl\n",
    "import matplotlib.pyplot as plt\n",
    "%matplotlib inline\n",
    "from tensorflow.keras import layers"
   ]
  },
  {
   "cell_type": "markdown",
   "metadata": {},
   "source": [
    "### 2. 获取数据\n",
    "<font size = 3>\n",
    "\n",
    "数据来自：http://yann.lecun.com/exdb/mnist/\n",
    "其中训练图片60000张，测试图片10000张，图片大小均为$28×28$像素，灰度图像所以为单通道。"
   ]
  },
  {
   "cell_type": "code",
   "execution_count": 2,
   "metadata": {},
   "outputs": [
    {
     "data": {
      "image/png": "[encoded data removed]",
      "text/plain": [
       "<Figure size 1000x1000 with 9 Axes>"
      ]
     },
     "metadata": {},
     "output_type": "display_data"
    }
   ],
   "source": [
    "Train_images = './Data/MNIST DATABASE/train-images-idx3-ubyte.gz'\n",
    "Train_label = './Data/MNIST DATABASE/train-labels-idx1-ubyte.gz'\n",
    "Test_images = './Data/MNIST DATABASE/t10k-images-idx3-ubyte.gz'\n",
    "Test_label= './Data/MNIST DATABASE/t10k-labels-idx1-ubyte.gz'\n",
    "\n",
    "IMAGE_SIZE = 28\n",
    "num_train =60000\n",
    "num_test =10000\n",
    "NUM_CHANNELS = 1\n",
    "PIXEL_DEPTH = 255.0\n",
    "\n",
    "with gzip.open(Train_images) as bytestream: \n",
    "    bytestream.read(16) #每个像素存储在文件中的大小为 16bits \n",
    "    buf = bytestream.read(IMAGE_SIZE * IMAGE_SIZE * num_train * NUM_CHANNELS) \n",
    "    data = np.frombuffer(buf, dtype=np.uint8).astype(np.float32) \n",
    "    train_data = (data - (PIXEL_DEPTH / 2.0)) / PIXEL_DEPTH  #像素值[0, 255]被调整到[-0.5, 0.5] \n",
    "    train_data = data.reshape(num_train, IMAGE_SIZE, IMAGE_SIZE, NUM_CHANNELS)  #调整为 4 维张量[image index, y, x, channels] \n",
    "\n",
    "with gzip.open(Train_label) as bytestream: \n",
    "    bytestream.read(8) #每个标签存储在文件中的大小为 8bits \n",
    "    buf = bytestream.read(1 * num_train) \n",
    "    train_labels = np.frombuffer(buf, dtype=np.uint8).astype(np.int64)\n",
    "    \n",
    "with gzip.open(Test_images) as bytestream: \n",
    "    bytestream.read(16) #每个像素存储在文件中的大小为 16bits \n",
    "    buf = bytestream.read(IMAGE_SIZE * IMAGE_SIZE * num_test * NUM_CHANNELS) \n",
    "    data = np.frombuffer(buf, dtype=np.uint8).astype(np.float32) \n",
    "    test_data = (data - (PIXEL_DEPTH / 2.0)) / PIXEL_DEPTH \n",
    "    test_data = data.reshape(num_test, IMAGE_SIZE, IMAGE_SIZE, NUM_CHANNELS)\n",
    "\n",
    "with gzip.open(Test_label) as bytestream: \n",
    "    bytestream.read(8) #每个标签存储在文件中的大小为 8bits \n",
    "    buf = bytestream.read(1 * num_test) \n",
    "    test_labels = np.frombuffer(buf, dtype=np.uint8).astype(np.int64)\n",
    "\n",
    "# 初步查看数据\n",
    "# 训练集前9张\n",
    "plt.figure(figsize=(10,10))\n",
    "for i in range(9):\n",
    "    plt.subplot(3,3,i+1)\n",
    "    plt.xticks([])\n",
    "    plt.yticks([])\n",
    "    plt.grid(False)\n",
    "    image =train_data[i].reshape(28, 28)\n",
    "    plt.imshow(image, cmap=\"binary\")\n",
    "    \n",
    "    plt.xlabel(train_labels[i])\n",
    "plt.show()"
   ]
  },
  {
   "cell_type": "markdown",
   "metadata": {},
   "source": [
    "### 3. 数据处理\n",
    "<font size =3>\n",
    "训练集转为tensor,将标注（label）进行one-hot处理\n",
    "<br/>\n",
    "tf.data.Dataset.from_tensor_slices:切分传入Tensor的第一个维度，生成相应的dataset"
   ]
  },
  {
   "cell_type": "code",
   "execution_count": 3,
   "metadata": {},
   "outputs": [],
   "source": [
    "train_x = train_data\n",
    "train_y = np.float32(tf.keras.utils.to_categorical(train_labels,num_classes=10)) \n",
    "\n",
    "test_x = tf.convert_to_tensor(test_data)\n",
    "test_y = np.float32(tf.keras.utils.to_categorical(test_labels,num_classes=10))\n",
    "\n",
    "#bacth_size = 500\n",
    "#train_dataset = tf.data.Dataset.from_tensor_slices((train_x,train_y)).batch(bacth_size).shuffle(bacth_size * 10)  \n",
    "# batch就是将多个元素组合成batch\n",
    "#shuffle的功能为打乱dataset中的元素，它有一个参数buffersize，表示打乱时使用的buffer的大小\n",
    "#test_dataset = tf.data.Dataset.from_tensor_slices((test_x,test_y)).batch(bacth_size)"
   ]
  },
  {
   "cell_type": "markdown",
   "metadata": {},
   "source": [
    "\n",
    "### 4. 创建模型"
   ]
  },
  {
   "cell_type": "code",
   "execution_count": 4,
   "metadata": {},
   "outputs": [
    {
     "name": "stdout",
     "output_type": "stream",
     "text": [
      "Model: \"sequential\"\n",
      "_________________________________________________________________\n",
      " Layer (type)                Output Shape              Param #   \n",
      "=================================================================\n",
      " conv2d (Conv2D)             (None, 26, 26, 32)        320       \n",
      "                                                                 \n",
      " max_pooling2d (MaxPooling2D  (None, 25, 25, 32)       0         \n",
      " )                                                               \n",
      "                                                                 \n",
      " conv2d_1 (Conv2D)           (None, 23, 23, 64)        18496     \n",
      "                                                                 \n",
      " conv2d_2 (Conv2D)           (None, 21, 21, 128)       73856     \n",
      "                                                                 \n",
      " max_pooling2d_1 (MaxPooling  (None, 20, 20, 128)      0         \n",
      " 2D)                                                             \n",
      "                                                                 \n",
      " flatten (Flatten)           (None, 51200)             0         \n",
      "                                                                 \n",
      " dense (Dense)               (None, 512)               26214912  \n",
      "                                                                 \n",
      " dense_1 (Dense)             (None, 10)                5130      \n",
      "                                                                 \n",
      "=================================================================\n",
      "Total params: 26,312,714\n",
      "Trainable params: 26,312,714\n",
      "Non-trainable params: 0\n",
      "_________________________________________________________________\n",
      "None\n"
     ]
    }
   ],
   "source": [
    "model = tf.keras.models.Sequential(\n",
    "    [\n",
    "        layers.Conv2D(32, (3, 3), activation='relu', input_shape=(28, 28, 1)),  #  3X3卷积核，32个输出通道\n",
    "        layers.MaxPooling2D((2, 2),strides = 1 ),    # 池化窗口 2X2，步长为1\n",
    "     \n",
    "        layers.Conv2D(64, (3, 3), activation='relu'),  # 输出64个 3X3卷积核\n",
    "        layers.Conv2D(128, (3, 3), activation='relu'),  # 输出128个 3X3卷积核\n",
    "        layers.MaxPooling2D((2, 2),strides = 1 ),       # 池化窗口 2X2，步长为1\n",
    "    \n",
    "        layers.Flatten(), #用于将输入层的数据压成一维的数据，一般用再卷积层和全连接层之间\n",
    "        layers.Dense(512, activation='relu'),\n",
    "        layers.Dense(10, activation='softmax')\n",
    "    ]\n",
    ")\n",
    "\n",
    "print(model.summary())"
   ]
  },
  {
   "cell_type": "markdown",
   "metadata": {},
   "source": [
    "### 5. 训练"
   ]
  },
  {
   "cell_type": "code",
   "execution_count": 5,
   "metadata": {},
   "outputs": [
    {
     "name": "stdout",
     "output_type": "stream",
     "text": [
      "Epoch 1/15\n",
      "96/96 [==============================] - 8s 46ms/step - loss: 28.1333 - accuracy: 0.8140 - val_loss: 0.0872 - val_accuracy: 0.9739\n",
      "Epoch 2/15\n",
      "96/96 [==============================] - 4s 45ms/step - loss: 0.0629 - accuracy: 0.9808 - val_loss: 0.0690 - val_accuracy: 0.9800\n",
      "Epoch 3/15\n",
      "96/96 [==============================] - 4s 45ms/step - loss: 0.0358 - accuracy: 0.9884 - val_loss: 0.0659 - val_accuracy: 0.9811\n",
      "Epoch 4/15\n",
      "96/96 [==============================] - 4s 45ms/step - loss: 0.0223 - accuracy: 0.9930 - val_loss: 0.0637 - val_accuracy: 0.9824\n",
      "Epoch 5/15\n",
      "96/96 [==============================] - 4s 45ms/step - loss: 0.0141 - accuracy: 0.9953 - val_loss: 0.0650 - val_accuracy: 0.9837\n",
      "Epoch 6/15\n",
      "96/96 [==============================] - 4s 45ms/step - loss: 0.0078 - accuracy: 0.9974 - val_loss: 0.0626 - val_accuracy: 0.9847\n",
      "Epoch 7/15\n",
      "96/96 [==============================] - 4s 45ms/step - loss: 0.0083 - accuracy: 0.9973 - val_loss: 0.0802 - val_accuracy: 0.9841\n",
      "Epoch 8/15\n",
      "96/96 [==============================] - 4s 45ms/step - loss: 0.0168 - accuracy: 0.9944 - val_loss: 0.0804 - val_accuracy: 0.9823\n",
      "Epoch 9/15\n",
      "96/96 [==============================] - 4s 45ms/step - loss: 0.0102 - accuracy: 0.9963 - val_loss: 0.0857 - val_accuracy: 0.9807\n",
      "Epoch 10/15\n",
      "96/96 [==============================] - 4s 45ms/step - loss: 0.0105 - accuracy: 0.9964 - val_loss: 0.0815 - val_accuracy: 0.9832\n",
      "Epoch 11/15\n",
      "96/96 [==============================] - 4s 45ms/step - loss: 0.0067 - accuracy: 0.9973 - val_loss: 0.0844 - val_accuracy: 0.9847\n",
      "Epoch 12/15\n",
      "96/96 [==============================] - 4s 45ms/step - loss: 0.0089 - accuracy: 0.9970 - val_loss: 0.0952 - val_accuracy: 0.9833\n",
      "Epoch 13/15\n",
      "96/96 [==============================] - 4s 45ms/step - loss: 0.0077 - accuracy: 0.9974 - val_loss: 0.0816 - val_accuracy: 0.9843\n",
      "Epoch 14/15\n",
      "96/96 [==============================] - 4s 45ms/step - loss: 0.0044 - accuracy: 0.9984 - val_loss: 0.0824 - val_accuracy: 0.9847\n",
      "Epoch 15/15\n",
      "96/96 [==============================] - 4s 45ms/step - loss: 0.0039 - accuracy: 0.9986 - val_loss: 0.0967 - val_accuracy: 0.9839\n"
     ]
    }
   ],
   "source": [
    "model.compile(optimizer='adam',\n",
    "               loss=tf.keras.losses.categorical_crossentropy,\n",
    "              metrics=['accuracy'])\n",
    "history = model.fit(train_x,train_y,epochs=15,batch_size = 500,validation_split=0.2)"
   ]
  },
  {
   "cell_type": "markdown",
   "metadata": {},
   "source": [
    "### 6. 使用模型"
   ]
  },
  {
   "cell_type": "code",
   "execution_count": 6,
   "metadata": {},
   "outputs": [
    {
     "data": {
      "image/png": "[encoded data removed]",
      "text/plain": [
       "<Figure size 1000x1000 with 25 Axes>"
      ]
     },
     "metadata": {},
     "output_type": "display_data"
    }
   ],
   "source": [
    "Pre = model.predict(test_x)\n",
    "K = []\n",
    "\n",
    "for i in Pre:\n",
    "    k = 0\n",
    "    for j in i:\n",
    "        if j == max(i):\n",
    "            K.append(k)\n",
    "            break\n",
    "        k = k+1\n",
    "\n",
    "S = K-test_labels\n",
    "J = []\n",
    "j = 0\n",
    "for i in S:\n",
    "    if i!=0:\n",
    "        #print(j)\n",
    "        J.append(j)\n",
    "    j = j+1\n",
    "\n",
    "# 查看识别错的图片\n",
    "Error_images = test_data[J]\n",
    "plt.figure(figsize=(10,10))\n",
    "for i in range(25):\n",
    "    plt.subplot(5,5,i+1)\n",
    "    plt.xticks([])\n",
    "    plt.yticks([])\n",
    "    plt.grid(False)\n",
    "    some_image =Error_images[i].reshape(28, 28)\n",
    "    plt.imshow(some_image, cmap=\"binary\")\n",
    "    \n",
    "    plt.xlabel([K[J[i]],test_labels[J[i]]])\n",
    "plt.show()"
   ]
  },
  {
   "cell_type": "code",
   "execution_count": 25,
   "metadata": {},
   "outputs": [
    {
     "data": {
      "text/plain": [
       "98.00999999999999"
      ]
     },
     "execution_count": 25,
     "metadata": {},
     "output_type": "execute_result"
    }
   ],
   "source": [
    "(1-len(J)/len(S))*100 # 准确率"
   ]
  },
  {
   "cell_type": "code",
   "execution_count": null,
   "metadata": {},
   "outputs": [],
   "source": []
  }
 ],
 "metadata": {
  "kernelspec": {
   "display_name": "Python 3",
   "language": "python",
   "name": "python3"
  },
  "language_info": {
   "codemirror_mode": {
    "name": "ipython",
    "version": 3
   },
   "file_extension": ".py",
   "mimetype": "text/x-python",
   "name": "python",
   "nbconvert_exporter": "python",
   "pygments_lexer": "ipython3",
   "version": "3.7.0"
  }
 },
 "nbformat": 4,
 "nbformat_minor": 2
}
