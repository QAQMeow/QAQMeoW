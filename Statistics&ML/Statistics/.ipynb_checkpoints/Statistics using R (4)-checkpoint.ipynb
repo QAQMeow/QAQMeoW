{
 "cells": [
  {
   "cell_type": "markdown",
   "metadata": {},
   "source": [
    "# 参数估计"
   ]
  },
  {
   "cell_type": "markdown",
   "metadata": {},
   "source": [
    "<font size = 3>\n",
    "    \n",
    "**参数估计 (Parameter Estimation)** 是指用**统计量**估计总体指标 (称为参数)。参数估计有**点估计(point estimation)和区间估计(interval estimation)**\n",
    "\n"
   ]
  },
  {
   "cell_type": "markdown",
   "metadata": {},
   "source": [
    "## 点估计\n",
    "<font size = 3>\n",
    "<br/>\n",
    "设有从总体(其概率密度函数为$f(x,\\theta_1,\\theta_2,...\\theta_n)$)中抽出得样本$X_1,X_2,...X_n$,依据这些样本去对参数$\\theta_1,\\theta_2,...\\theta_n$的未知值做出估计。可估计其中一部分或者某个已知函数$g(\\theta_1,\\theta_2,...\\theta_n)$。为了估计$\\theta_1,\\theta_2,...\\theta_n$,需要构造出适当的统计量$\\hat \\theta_i =\\hat \\theta_i(X_1,X_2,...X_n)$算出的值作为$\\theta_i$的估计值。点估计是依据样本估计总体\n",
    "分布中所含的未知参数或未知参数的函数。通常它是总体的某个特征值，如数学期望、方差和相关系数等。点估计问题就是要构造一个只依赖于样本的量，作为未知参数或未知参数的函数的估计值。\n",
    "\n",
    "常见点估计方法：**矩估计法，极大似然估计法，最小二乘法，EM算法，Bootstrap法**"
   ]
  },
  {
   "cell_type": "markdown",
   "metadata": {},
   "source": [
    "### 矩估计法\n",
    "<font size = 3>\n",
    "设$x_1,x_2,...,x)n$是来自总体$X$的一个样本，根据大数定律：\n",
    "    \n",
    "对于任意$\\epsilon>0$,$\\lim_{x\\to \\infty}P{\\{\\bar X-E(X)|\\ge \\epsilon\\}}=0$\n",
    "\n",
    "则对于任何$k$,只要$E(X^k)$存在，同样有\n",
    "\n",
    "$\\lim_{\\to \\infty}P\\{| \\frac{1}{n}\\sum_{i=1}^{n}X_i^k-E(X^k)|\\ge \\epsilon\\}=0,k = 1,2,...$\n",
    "\n",
    "因此可以用样本矩估计总体矩，从而得到总体分布中参数。如用样本均值估计总体均值。"
   ]
  },
  {
   "cell_type": "markdown",
   "metadata": {},
   "source": [
    "<font size = 3>\n",
    "\n",
    "**正态分布**"
   ]
  },
  {
   "cell_type": "code",
   "execution_count": null,
   "metadata": {},
   "outputs": [],
   "source": []
  },
  {
   "cell_type": "markdown",
   "metadata": {},
   "source": [
    "<font size = 3>\n",
    "\n",
    "**指数分布**"
   ]
  },
  {
   "cell_type": "code",
   "execution_count": null,
   "metadata": {},
   "outputs": [],
   "source": []
  },
  {
   "cell_type": "markdown",
   "metadata": {},
   "source": [
    "<font size = 3>\n",
    "\n",
    "**均匀分布**"
   ]
  },
  {
   "cell_type": "code",
   "execution_count": null,
   "metadata": {},
   "outputs": [],
   "source": []
  },
  {
   "cell_type": "markdown",
   "metadata": {},
   "source": [
    "<font size = 3>\n",
    "\n",
    "**二项分布**"
   ]
  },
  {
   "cell_type": "code",
   "execution_count": null,
   "metadata": {},
   "outputs": [],
   "source": []
  },
  {
   "cell_type": "markdown",
   "metadata": {},
   "source": [
    "<font size = 3>\n",
    "\n",
    "**泊松分布**"
   ]
  },
  {
   "cell_type": "code",
   "execution_count": null,
   "metadata": {},
   "outputs": [],
   "source": []
  },
  {
   "cell_type": "code",
   "execution_count": null,
   "metadata": {},
   "outputs": [],
   "source": []
  },
  {
   "cell_type": "markdown",
   "metadata": {},
   "source": [
    "### 极大似然估计法（MLE）\n",
    "<font size = 3>"
   ]
  },
  {
   "cell_type": "markdown",
   "metadata": {},
   "source": [
    "<font size = 3>\n",
    "一个随机试验如有若干个可能的结果 A，B，C，…。若在一次试验中，结果 A 出现，则一般认为试验条件对 A 出现有利，也即 A 出现的概率很大。当从模型总体随机抽取 n 组样本观测值后，最合理的参数估计量应该是使得从模型中抽取该 n 组样本观测值的概率最大。在任一次随机抽取中，样本观测值都以一定的概率出现。如果已经知道总体的参数，当然由变量的频率函数可以计算其概率。如果只知道总体服从某种分布，但不知道其分布参数，通过随机样本可以求出总体的参数估计。把观察值$x_1,x_2,...,x_n$看成结果，而参数值$(\\theta_1,\\theta_2,....\\theta_k)$看成导致这结果的原因。\n",
    "   \n",
    "   设$X_1,X_2,...,X_n$来自总体$X\\sim f(x；\\theta_1,\\theta_2,....\\theta_k)$"
   ]
  },
  {
   "cell_type": "code",
   "execution_count": null,
   "metadata": {},
   "outputs": [],
   "source": []
  }
 ],
 "metadata": {
  "kernelspec": {
   "display_name": "R",
   "language": "R",
   "name": "ir"
  },
  "language_info": {
   "codemirror_mode": "r",
   "file_extension": ".r",
   "mimetype": "text/x-r-source",
   "name": "R",
   "pygments_lexer": "r",
   "version": "4.1.2"
  }
 },
 "nbformat": 4,
 "nbformat_minor": 2
}
