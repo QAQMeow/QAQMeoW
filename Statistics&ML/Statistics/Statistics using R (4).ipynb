{
 "cells": [
  {
   "cell_type": "markdown",
   "metadata": {},
   "source": [
    "# 参数估计"
   ]
  },
  {
   "cell_type": "markdown",
   "metadata": {},
   "source": [
    "<font size = 3>\n",
    "    \n",
    "**参数估计 (Parameter Estimation)** 是指用**统计量**估计总体指标 (称为参数)。参数估计有**点估计(point estimation)和区间估计(interval estimation)**\n",
    "\n"
   ]
  },
  {
   "cell_type": "markdown",
   "metadata": {},
   "source": [
    "## 点估计\n",
    "<font size = 3>\n",
    "<br/>\n",
    "设有从总体(其概率密度函数为$f(x,\\theta_1,\\theta_2,...\\theta_n)$)中抽出得样本$X_1,X_2,...X_n$,依据这些样本去对参数$\\theta_1,\\theta_2,...\\theta_n$的未知值做出估计。可估计其中一部分或者某个已知函数$g(\\theta_1,\\theta_2,...\\theta_n)$。为了估计$\\theta_1,\\theta_2,...\\theta_n$,需要构造出适当的统计量$\\hat \\theta_i =\\hat \\theta_i(X_1,X_2,...X_n)$算出的值作为$\\theta_i$的估计值。点估计是依据样本估计总体\n",
    "分布中所含的未知参数或未知参数的函数。通常它是总体的某个特征值，如数学期望、方差和相关系数等。点估计问题就是要构造一个只依赖于样本的量，作为未知参数或未知参数的函数的估计值。\n",
    "\n",
    "常见点估计方法：**矩估计法，极大似然估计法，最小二乘法，EM算法，Bootstrap法**\n",
    "\n",
    "**点估计的优良准则：**\n",
    "\n",
    "1. 无偏性\n",
    "2. 相合性\n",
    "3. 渐进正态性\n",
    "4. 有效性"
   ]
  },
  {
   "cell_type": "markdown",
   "metadata": {},
   "source": [
    "### 矩估计法\n",
    "<font size = 3>\n",
    "设$x_1,x_2,...,x)n$是来自总体$X$的一个样本，根据大数定律：\n",
    "    \n",
    "对于任意$\\epsilon>0$,$\\lim_{x\\to \\infty}P{\\{\\bar X-E(X)|\\ge \\epsilon\\}}=0$\n",
    "\n",
    "则对于任何$k$,只要$E(X^k)$存在，同样有\n",
    "\n",
    "$\\lim_{\\to \\infty}P\\{| \\frac{1}{n}\\sum_{i=1}^{n}X_i^k-E(X^k)|\\ge \\epsilon\\}=0,k = 1,2,...$\n",
    "\n",
    "因此可以用样本矩估计总体矩，从而得到总体分布中参数。如用样本均值估计总体均值。"
   ]
  },
  {
   "cell_type": "markdown",
   "metadata": {},
   "source": [
    "<font size = 3>\n",
    "\n",
    "**正态分布**"
   ]
  },
  {
   "cell_type": "code",
   "execution_count": null,
   "metadata": {},
   "outputs": [],
   "source": []
  },
  {
   "cell_type": "markdown",
   "metadata": {},
   "source": [
    "<font size = 3>\n",
    "\n",
    "**指数分布**"
   ]
  },
  {
   "cell_type": "code",
   "execution_count": null,
   "metadata": {},
   "outputs": [],
   "source": []
  },
  {
   "cell_type": "markdown",
   "metadata": {},
   "source": [
    "<font size = 3>\n",
    "\n",
    "**均匀分布**"
   ]
  },
  {
   "cell_type": "code",
   "execution_count": null,
   "metadata": {},
   "outputs": [],
   "source": []
  },
  {
   "cell_type": "markdown",
   "metadata": {},
   "source": [
    "<font size = 3>\n",
    "\n",
    "**二项分布**"
   ]
  },
  {
   "cell_type": "code",
   "execution_count": null,
   "metadata": {},
   "outputs": [],
   "source": []
  },
  {
   "cell_type": "markdown",
   "metadata": {},
   "source": [
    "<font size = 3>\n",
    "\n",
    "**泊松分布**"
   ]
  },
  {
   "cell_type": "code",
   "execution_count": null,
   "metadata": {},
   "outputs": [],
   "source": []
  },
  {
   "cell_type": "code",
   "execution_count": null,
   "metadata": {},
   "outputs": [],
   "source": []
  },
  {
   "cell_type": "markdown",
   "metadata": {},
   "source": [
    "### 极大似然估计法（MLE）\n",
    "<font size = 3>\n",
    "\n",
    "\n",
    "一个随机试验如有若干个可能的结果 A，B，C，…。若在一次试验中，结果 A 出现，则一般认为试验条件对 A 出现有利，也即 A 出现的概率很大。当从模型总体随机抽取 n 组样本观测值后，最合理的参数估计量应该是**使得从模型中抽取该 n 组样本观测值的概率最大**。在任一次随机抽取中，样本观测值都以一定的概率出现。如果已经知道总体的参数，当然由变量的频率函数可以计算其概率。如果只知道总体服从某种分布，但不知道其分布参数，通过随机样本可以求出总体的参数估计。\n",
    "   \n",
    "   设$X_1,X_2,...,X_n$来自总体$X\\sim f(x;\\theta_1,\\theta_2,....\\theta_k)$,则称\n",
    "   $L(x_1,x_2,...,x_n;\\theta_1,\\theta_2,....\\theta_k)=\\prod_{i=1}^{n}f(x_i;\\theta_1,\\theta_2,....\\theta_k)$为**似然函数**\n",
    "   \n",
    "   $LogL(x_1,x_2,...,x_n;\\theta_1,\\theta_2,....\\theta_k) = \\sum_{i=1}^{n}log(f(x_i;\\theta_1,\\theta_2,....\\theta_k))$为**对数似然函数**\n",
    "   \n",
    " 把观察值$x_1,x_2,...,x_n$看成结果，而参数值$(\\theta_1,\\theta_2,....\\theta_k)$看成导致这结果的原因。参数$(\\theta_1,\\theta_2,....\\theta_k)$有一定值（虽然未知），不是事件或随机变量，无概率可言，所以称为**似然**。应用似然程度最大的点:\n",
    " \n",
    "$L(x_1,x_2,...,x_n;\\theta_1^*,\\theta_2^*,....\\theta_k^*) = max(L(x_1,x_2,...,x_n;\\theta_1,\\theta_2,....\\theta_k))$\n",
    "\n",
    "$(\\theta_1^*,\\theta_2^*,....\\theta_k^*)$作$(\\theta_1,\\theta_2,....\\theta_k)$的估计值,称为**极大似然估计**。若要估计 $g(\\theta_1,\\theta_2,....\\theta_k)$,则用$g(\\theta_1^*,\\theta_2^*,....\\theta_k^*)$估计。\n",
    "\n",
    "为使$L$最大，只须使对数似然函数达到最大，若$f$对$\\theta_1,\\theta_2,....\\theta_k$存在连续偏导数，可建立似然方程组：\n",
    "\n",
    "$\\frac{\\partial logL}{\\partial \\theta_i}= 0,             \n",
    "i=1,...,k$\n",
    "\n",
    "若该方程组有唯一点，又能验证它是一个极大值点，则必是L达到最大之点。一般常见重要例子可满足该条件。"
   ]
  },
  {
   "cell_type": "markdown",
   "metadata": {},
   "source": [
    "<font size = 3>\n",
    "\n",
    "**正态分布**\n",
    " "
   ]
  },
  {
   "cell_type": "code",
   "execution_count": null,
   "metadata": {},
   "outputs": [],
   "source": []
  },
  {
   "cell_type": "markdown",
   "metadata": {},
   "source": [
    "<font size = 3>\n",
    "\n",
    "**指数分布**"
   ]
  },
  {
   "cell_type": "code",
   "execution_count": null,
   "metadata": {},
   "outputs": [],
   "source": []
  },
  {
   "cell_type": "markdown",
   "metadata": {},
   "source": [
    "<font size = 3>\n",
    "\n",
    "**均匀分布**"
   ]
  },
  {
   "cell_type": "code",
   "execution_count": null,
   "metadata": {},
   "outputs": [],
   "source": []
  },
  {
   "cell_type": "markdown",
   "metadata": {},
   "source": [
    "<font size = 3>\n",
    "\n",
    "**二项分布**"
   ]
  },
  {
   "cell_type": "code",
   "execution_count": null,
   "metadata": {},
   "outputs": [],
   "source": []
  },
  {
   "cell_type": "code",
   "execution_count": null,
   "metadata": {},
   "outputs": [],
   "source": []
  },
  {
   "cell_type": "markdown",
   "metadata": {},
   "source": [
    "## 区间估计\n",
    "<br/>\n",
    "<font size= 3>\n",
    "    \n",
    "   **区间估计**是依据抽取的样本，根据一定的正确度与精确度的要求，构造出适当的区间，作为总体分布的未知参数或参数的函数的真值所在范围的估计。\n",
    " 即利用样本 $X = (X_1, X_2,.., X_n)$构造两个统计量 $\\theta^*(X) $和 $\\theta_*(X)$ 满足 $\\theta_*(X) ≤ \\theta^*(X)$，它们分别充当闭区间的上下限，区间 $[\\theta_*(X),\\theta^*(X)$ 称为未知参数 $\\theta$的一个**区间估计**。由于这样区间的上下限是随机变量，它覆盖住未知参数$\\theta$的概率 $P\\{\\theta_*(X)≤ \\theta ≤ \\theta^*(X)\\}$一般是依赖于 $\\theta$ 的。\n"
   ]
  },
  {
   "cell_type": "code",
   "execution_count": null,
   "metadata": {},
   "outputs": [],
   "source": []
  }
 ],
 "metadata": {
  "kernelspec": {
   "display_name": "R",
   "language": "R",
   "name": "ir"
  },
  "language_info": {
   "codemirror_mode": "r",
   "file_extension": ".r",
   "mimetype": "text/x-r-source",
   "name": "R",
   "pygments_lexer": "r",
   "version": "4.1.2"
  }
 },
 "nbformat": 4,
 "nbformat_minor": 2
}
