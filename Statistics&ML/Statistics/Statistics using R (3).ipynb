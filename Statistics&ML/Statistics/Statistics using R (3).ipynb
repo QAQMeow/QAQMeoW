{
 "cells": [
  {
   "cell_type": "markdown",
   "metadata": {},
   "source": [
    "# 多元统计分析"
   ]
  },
  {
   "cell_type": "markdown",
   "metadata": {},
   "source": [
    "<font size = 3>\n",
    "    \n",
    "多元统计分析的内容主要有:**多元数据图示法、多元线性相关与回归分析、聚类分析、判别分析、主成分分析、因子分析、对应分析及典型相关分析**等。\n",
    "\n",
    "**1.多元数据的数学表示**<br/>\n",
    "多元数据是指具有多个变量的数据。如果将每个变量看做一个随机向量的话，多个变量形成的数据集将是一个随机矩阵，所以多元数据的基本表现形式是一个矩阵。对这些数据矩阵进行数学表示是我们的首要任务。也就是说，多元数据的基本运算是矩阵运算。\n",
    "\n",
    "**2.多元数据的直观分析**<br/>\n",
    "直观分析即图示法是进行数据分析的重要辅助手段。例如，通过两变量的散点图可以考察异常的观察值对样本相关系数的影响，利用矩阵散点图可以考察多元之间的关系，利用多元箱尾图可以比较几个变量的基本统计量的大小差别。\n",
    "\n",
    "**3．多元线性相关分析**<br/>\n",
    "相关分析就是通过对大量数字资料的观察，消除偶然因素的影响，探求现象之间相关关系的密切程度和表现形式。在经济系统中，各个经济变量常常存在内在的关系。在这些关系中，有一些是严格的函数关系，这类关系可以用数学表达式表示出来。还有一些是非确定的关系，一个变量产生变动会影响其他变量，使其产生变化。这种变化具有随机的特性，但是仍然遵循一定的规律。函数关系很容易解决，而那些非确定的关系，即相关关系,才是我们所关心的问题。\n",
    "\n",
    "**4.多元线性回归分析**<br/>\n",
    "回归分析研究的主要对象是客观事物变量间的统计关系。它是建立在对客观事物进行大量实验和观察的基础上，用来寻找隐藏在看起来不确定的现象中的统计规律的方法。回归分析不仅可以揭示自变量对因变量的影响大小，还可以由回归方程进行预测和控制。\n",
    "回归分析的主要研究范围包括:<br/>\n",
    "(1）线性回归模型:一元线性回归模型,多元线性回归模型。<br/>\n",
    "(2) 回归模型的诊断:回归模型基本假设的合理性，回归方程拟合效果的判定，选择回归函数的形式。<br/>\n",
    "(3) 广义线性模型:含定性变量的回归，自变量含定性变量，因变量含定性变量。<br/>\n",
    "(4) 非线性回归模型:一元非线性回归，多元非线性回归。\n",
    "\n",
    "**5．线性模型与非线性模型**<br/>\n",
    "鉴于统计模型的多样性和各种模型的适应性，针对因变量和解释变量的取值性质可将统计模型分为多种类型。通常将自变量为定性变量的线性模型称为一般线性模型如实验设计模型、方差分析模型;将因变量为非正态分布的线性模型称为广义线性模型如Logistic回归模型、对数线性模型、Cox 比例风险模型。<br/>\n",
    "(1) 广义线性模型(GLM)。广义线性模型是多元线性回归模型的推广，从另一个角度也可以看做非线性模型的特例，它们具有一些共性是其他非线性模型所不具备的。它与典型线性模型的区别是其随机误差的分布不是正态分布，与非线性模型的最大区别则在于非线性模型没有明确的随机误差分布假定，而广义线性模型的随机误差的分布是可以确定的。广义线性模型不仅包括离散变量，也包报连续变量。正态分布也被包括在指数分布族里，该指数分布族包含描述发散状况的参数属于双参数指数分布族。<br/>\n",
    "(2）非线性模型。在实际研究中，经常遇到一个随机变量随一个或多个非随机变量变化而变化的情况，而这种变化关系明显呈非线性。怎样用一个较好的模型来表示，然后进行估计与预测，并对其非线性进行检验就成为一个重要问题。在经济预测中，常用多元回归模型反映预报量与各因素之间的依赖关系，其中，线性回归分析有着广泛的应用。但客观事物之间并不一定呈线性关系，在有些情况下，非线性回归模型更为合适只是建立起来较为困难。\n",
    "\n",
    "**6.判别分析**<br/>\n",
    "判别分析是多元统计分析中用于判别样本所属类型的一种统计分析方法。所谓判别分析法，是在已知的分类之下，一旦有新的样品时，可以利用此法选定一个判别标准,以判定将该新样品放置于哪个类中。判别分析的目的是对已知分类的数据建立由数值指标构成的分类规则，然后把这样的规则应用到未知分类的样品中去分类。\n",
    "\n",
    "**7、聚类分析**<br/>\n",
    "聚类分析是研究“物以类聚”的一种现代统计分析方法，对于多因素、多指标的分类问题，定性分类更难以实现准确分类。为克服定性分类的不足，多元统计分析逐渐地被引人数值分类学，形成了聚类分析这个分支。聚类分析是一种分类技术，与多元分析的其他方法相比，该方法较为粗糙，理论上还不完善，但应用方面取得了很大成功。聚类分析与回归分析、判别分析一起被称为元分析的三个主要方法。\n",
    "\n",
    "**8．主成分分析**<br/>\n",
    "在实际问题中，研究多变量问题是经常遇到的，然而在多数情况下，不同变量之间有一定相关性，这必然增加了分析问题的复杂性。主成分分析就是一种通过降维技术把多个指标化为少数几个综合指标的统计分析方法。,如何将具有错综复杂关系的指标综合成几个较少的成分，使之既有利于对问题进行分析和解释，又便于抓住主要矛盾作出科学的评价，此时便可以用主成分分析方法。\n",
    "\n",
    "**9．因子分析**<br/>\n",
    "因子分析是主成分分析的推广，它也是一种把多个变量化为少数几个综合变量的多元分析方法，但其目的是用有限个不可观测的隐变量来解释原变量之间的相关关系。主成分分析通过线性组合将原变量综合成几个主成分，用较少的综合指标来代替原来较多的指标（变量)。在多元分析中，变量间往往存在相关性，是什么原因使变量间有关联呢?是否存在不能直接观测到的、但影响可观测变量变化的公共因子?因子分析就是寻找这些公共因子的统计分析方法，它是在主成分的基础上构筑若干意义较为明确的公因子，以它们为框架分解原变量，以此考察原变量间的联系与区别。\n",
    "\n",
    "**10．对应分析**<br/>\n",
    "对应分析又称为相应分析，是Q型和R型因子分析的联合应用。在经济管理数据的统计分析中，经常要处理三种关系，即样品之间的关系（Q型关系)、变量间的关系（R型关系）以及样品与变量之间的关系（对应型关系)。例如，对某一行业所属的企业进行经济效益评价时，不仅要研究经济效益指标间的关系,还要将企业按经济效益的好坏进行分类，研究哪些企业与哪些经济效益指标的关系更密切一些,为决策部门正确指导企业的生产经营活动提供更多的信息。这就需要有一种统计方法,将企业（样品）和指标（变量）放在一起进行分析、分类、作图，便于作经济意义上的解释。解决这类问题的统计方法就是对应分析。\n",
    "\n",
    "**11．典型相关分析**<br/>\n",
    "在相关分析中，当考察的一组变量仅有两个时，可用简单相关系数衡量之;当考察的一组变量有多个时，可用复相关系数衡量之。大量的实际问题需要我们把指标之间的联系扩展到两组变量，即两组随机变量之间的相互依赖关系。典型相关分析就是用来解决此类问题的一种分析方法。它实际上是利用主成分的思想来讨论两组随机变量的相关性问题，把两组变量间的相关性研究化为少数几对变量之间的相关性研究，而且这少数几对变量之间又是不相关的，以此来达到化简复杂相关关系的目的。典型相关分析在经济管理实证研究中有着广泛的应用，因为许多经济现象之间都是多个变量对多个变量的关系。例如，在研究通货膨胀的成因时，可把几个物价指数作为一组变量，把若干个影响物价变动的因素作为另-组变量，通过典型相关分析找出几对主要综合变量，结合典型相关系数对物价上涨及通货膨胀的成因，给出较深刻的分析结果。\n",
    "\n",
    "**12.多维标度法**<br/>\n",
    "多维标度分析( multidimensional scaling，MDS)是以空间分布的形式表现对象之间相似性或亲疏关系的一种多元数据分析方法。一旦有数据，多维标度法可以用来分析:①评价样品时受测者用什么维数;②在特定情况下受测者可能使用多少维数;③每个维数的相对重要性如何;④如何获得对样品关联的感性认识。\n",
    "\n",
    "**13．综合评价方法**<br/>\n",
    "20世纪七八十年代，是现代科学评价蓬勃兴起的年代，在此期间产生了很多种评价方法，如 ELECTRE法、多维偏好分析的线性规划法（LINMAP)、层次分析法(AHP) 、数据包络分析法（EDA）及逼近于理想解的排序法（TOPSIS）等，这些方法到现在已经发展得相对完善了，而且它们的应用也比较广泛。多指标综合评价方法具有以下特点:包含若干个指标，分别说明被评价对象的不同方面;评价方法最终要对被评价对象作出一个整体性的评判，用一个总指标来说明被评价对象的一般水平。目前常用的综合评价方法较多，如综合评分法、综合指数法、秩和比法、层次分析法、TOPSIS法、模糊综合评判法、数据包络分析法等。\n"
   ]
  },
  {
   "cell_type": "markdown",
   "metadata": {},
   "source": [
    "## 数据矩阵 R语言\n",
    "<font size = 3>\n",
    "<br/>\n",
    "在多元分析中，数据通常以矩阵的形式出现，R中基本矩阵运算主要包括:创建矩阵向量，矩阵加减、乘积，矩阵的逆，行列式的值，特征值与特征向量，QR分解，奇异值分解，取矩阵的上下三角元素，向量化算子等。\n"
   ]
  },
  {
   "cell_type": "markdown",
   "metadata": {},
   "source": [
    "### 1 向量\n",
    "<font size = 3>\n",
    "    \n",
    "在R中可以用函数 **c()** 来创建一个向量\n"
   ]
  },
  {
   "cell_type": "code",
   "execution_count": 7,
   "metadata": {
    "collapsed": true
   },
   "outputs": [
    {
     "name": "stdout",
     "output_type": "stream",
     "text": [
      " [1] 171 175 159 155 152 158 154 164 168 166 159 164\n",
      " [1] 57 64 41 38 35 44 41 51 57 49 47  6\n"
     ]
    }
   ],
   "source": [
    "x1 <- c(171,175,159,155,152,158,154,164,168,166,159,164)\n",
    "x2 <- c(57,64,41,38,35,44,41,51,57,49,47,6)\n",
    "\n",
    "print(x1)\n",
    "print(x2)\n",
    "# length()返回向量长度，class() 返回数据类型"
   ]
  },
  {
   "cell_type": "markdown",
   "metadata": {},
   "source": [
    "### 2 矩阵（2维数组）\n",
    "<font size = 3>\n",
    "\n",
    "在R中可以用函数**matrix()** 来创建一个矩阵\n",
    "\n",
    "matrix ( data = NA , nrow = 1 , ncol = 1 , byrow = FALSE, dimnames = NULL)\n",
    "\n",
    "**data**：数据，**nrow**：行数，**ncol**：列数，nrow与ncol 的乘积应为矩阵元素个数，**byrow**：控制排列元素时是否按行进行，**dimnames**：给定行和列的名称\n"
   ]
  },
  {
   "cell_type": "code",
   "execution_count": 29,
   "metadata": {
    "collapsed": true
   },
   "outputs": [
    {
     "data": {
      "text/html": [
       "<table class=\"dataframe\">\n",
       "<caption>A matrix: 3 × 4 of type dbl</caption>\n",
       "<thead>\n",
       "\t<tr><th></th><th scope=col>A</th><th scope=col>B</th><th scope=col>C</th><th scope=col>D</th></tr>\n",
       "</thead>\n",
       "<tbody>\n",
       "\t<tr><th scope=row>1</th><td>171</td><td>155</td><td>154</td><td>166</td></tr>\n",
       "\t<tr><th scope=row>2</th><td>175</td><td>152</td><td>164</td><td>159</td></tr>\n",
       "\t<tr><th scope=row>3</th><td>159</td><td>158</td><td>168</td><td>164</td></tr>\n",
       "</tbody>\n",
       "</table>\n"
      ],
      "text/latex": [
       "A matrix: 3 × 4 of type dbl\n",
       "\\begin{tabular}{r|llll}\n",
       "  & A & B & C & D\\\\\n",
       "\\hline\n",
       "\t1 & 171 & 155 & 154 & 166\\\\\n",
       "\t2 & 175 & 152 & 164 & 159\\\\\n",
       "\t3 & 159 & 158 & 168 & 164\\\\\n",
       "\\end{tabular}\n"
      ],
      "text/markdown": [
       "\n",
       "A matrix: 3 × 4 of type dbl\n",
       "\n",
       "| <!--/--> | A | B | C | D |\n",
       "|---|---|---|---|---|\n",
       "| 1 | 171 | 155 | 154 | 166 |\n",
       "| 2 | 175 | 152 | 164 | 159 |\n",
       "| 3 | 159 | 158 | 168 | 164 |\n",
       "\n"
      ],
      "text/plain": [
       "  A   B   C   D  \n",
       "1 171 155 154 166\n",
       "2 175 152 164 159\n",
       "3 159 158 168 164"
      ]
     },
     "metadata": {},
     "output_type": "display_data"
    },
    {
     "data": {
      "text/html": [
       "<table class=\"dataframe\">\n",
       "<caption>A matrix: 3 × 4 of type dbl</caption>\n",
       "<thead>\n",
       "\t<tr><th></th><th scope=col>A</th><th scope=col>B</th><th scope=col>C</th><th scope=col>D</th></tr>\n",
       "</thead>\n",
       "<tbody>\n",
       "\t<tr><th scope=row>1</th><td>171</td><td>175</td><td>159</td><td>155</td></tr>\n",
       "\t<tr><th scope=row>2</th><td>152</td><td>158</td><td>154</td><td>164</td></tr>\n",
       "\t<tr><th scope=row>3</th><td>168</td><td>166</td><td>159</td><td>164</td></tr>\n",
       "</tbody>\n",
       "</table>\n"
      ],
      "text/latex": [
       "A matrix: 3 × 4 of type dbl\n",
       "\\begin{tabular}{r|llll}\n",
       "  & A & B & C & D\\\\\n",
       "\\hline\n",
       "\t1 & 171 & 175 & 159 & 155\\\\\n",
       "\t2 & 152 & 158 & 154 & 164\\\\\n",
       "\t3 & 168 & 166 & 159 & 164\\\\\n",
       "\\end{tabular}\n"
      ],
      "text/markdown": [
       "\n",
       "A matrix: 3 × 4 of type dbl\n",
       "\n",
       "| <!--/--> | A | B | C | D |\n",
       "|---|---|---|---|---|\n",
       "| 1 | 171 | 175 | 159 | 155 |\n",
       "| 2 | 152 | 158 | 154 | 164 |\n",
       "| 3 | 168 | 166 | 159 | 164 |\n",
       "\n"
      ],
      "text/plain": [
       "  A   B   C   D  \n",
       "1 171 175 159 155\n",
       "2 152 158 154 164\n",
       "3 168 166 159 164"
      ]
     },
     "metadata": {},
     "output_type": "display_data"
    }
   ],
   "source": [
    "x1 <- c(171,175,159,155,152,158,154,164,168,166,159,164)\n",
    "rnames <-c(\"1\",\"2\",\"3\")  #行名称\n",
    "nnames <-c(\"A\",\"B\",\"C\",\"D\") #列名称\n",
    "matrix(x1,nrow = 3,ncol = 4,dimnames = list(rnames,nnames)) #生成3行4列数据，默认按列生成\n",
    "\n",
    "matrix(x1,nrow = 3,ncol = 4,byrow = TRUE,dimnames = list(rnames,nnames))  #生成3行4列数据，按行生成"
   ]
  },
  {
   "cell_type": "markdown",
   "metadata": {},
   "source": [
    "### 3 矩阵运算"
   ]
  },
  {
   "cell_type": "markdown",
   "metadata": {},
   "source": [
    "<font size = 3>\n",
    "\n",
    "**矩阵转置**：\n",
    "$A$为m×n矩阵，$A'$为其转置矩阵，求$A'$在R中可用函数**t()或transpose()**\n"
   ]
  },
  {
   "cell_type": "code",
   "execution_count": 7,
   "metadata": {
    "collapsed": true
   },
   "outputs": [
    {
     "data": {
      "text/html": [
       "<table class=\"dataframe\">\n",
       "<caption>A matrix: 3 × 4 of type int</caption>\n",
       "<tbody>\n",
       "\t<tr><td>1</td><td>4</td><td>7</td><td>10</td></tr>\n",
       "\t<tr><td>2</td><td>5</td><td>8</td><td>11</td></tr>\n",
       "\t<tr><td>3</td><td>6</td><td>9</td><td>12</td></tr>\n",
       "</tbody>\n",
       "</table>\n"
      ],
      "text/latex": [
       "A matrix: 3 × 4 of type int\n",
       "\\begin{tabular}{llll}\n",
       "\t 1 & 4 & 7 & 10\\\\\n",
       "\t 2 & 5 & 8 & 11\\\\\n",
       "\t 3 & 6 & 9 & 12\\\\\n",
       "\\end{tabular}\n"
      ],
      "text/markdown": [
       "\n",
       "A matrix: 3 × 4 of type int\n",
       "\n",
       "| 1 | 4 | 7 | 10 |\n",
       "| 2 | 5 | 8 | 11 |\n",
       "| 3 | 6 | 9 | 12 |\n",
       "\n"
      ],
      "text/plain": [
       "     [,1] [,2] [,3] [,4]\n",
       "[1,] 1    4    7    10  \n",
       "[2,] 2    5    8    11  \n",
       "[3,] 3    6    9    12  "
      ]
     },
     "metadata": {},
     "output_type": "display_data"
    },
    {
     "data": {
      "text/html": [
       "<table class=\"dataframe\">\n",
       "<caption>A matrix: 4 × 3 of type int</caption>\n",
       "<tbody>\n",
       "\t<tr><td> 1</td><td> 2</td><td> 3</td></tr>\n",
       "\t<tr><td> 4</td><td> 5</td><td> 6</td></tr>\n",
       "\t<tr><td> 7</td><td> 8</td><td> 9</td></tr>\n",
       "\t<tr><td>10</td><td>11</td><td>12</td></tr>\n",
       "</tbody>\n",
       "</table>\n"
      ],
      "text/latex": [
       "A matrix: 4 × 3 of type int\n",
       "\\begin{tabular}{lll}\n",
       "\t  1 &  2 &  3\\\\\n",
       "\t  4 &  5 &  6\\\\\n",
       "\t  7 &  8 &  9\\\\\n",
       "\t 10 & 11 & 12\\\\\n",
       "\\end{tabular}\n"
      ],
      "text/markdown": [
       "\n",
       "A matrix: 4 × 3 of type int\n",
       "\n",
       "|  1 |  2 |  3 |\n",
       "|  4 |  5 |  6 |\n",
       "|  7 |  8 |  9 |\n",
       "| 10 | 11 | 12 |\n",
       "\n"
      ],
      "text/plain": [
       "     [,1] [,2] [,3]\n",
       "[1,]  1    2    3  \n",
       "[2,]  4    5    6  \n",
       "[3,]  7    8    9  \n",
       "[4,] 10   11   12  "
      ]
     },
     "metadata": {},
     "output_type": "display_data"
    }
   ],
   "source": [
    "A <-matrix(1:12,3,4)\n",
    "A\n",
    "t(A) # 转置"
   ]
  },
  {
   "cell_type": "markdown",
   "metadata": {},
   "source": [
    "<font size = 3>\n",
    "\n",
    "**相加/减: +,-**"
   ]
  },
  {
   "cell_type": "code",
   "execution_count": 42,
   "metadata": {
    "collapsed": true
   },
   "outputs": [
    {
     "name": "stdout",
     "output_type": "stream",
     "text": [
      "A1 3 2 4B"
     ]
    },
    {
     "data": {
      "text/html": [
       "<table class=\"dataframe\">\n",
       "<caption>A matrix: 2 × 2 of type int</caption>\n",
       "<tbody>\n",
       "\t<tr><td>1</td><td>2</td></tr>\n",
       "\t<tr><td>3</td><td>4</td></tr>\n",
       "</tbody>\n",
       "</table>\n"
      ],
      "text/latex": [
       "A matrix: 2 × 2 of type int\n",
       "\\begin{tabular}{ll}\n",
       "\t 1 & 2\\\\\n",
       "\t 3 & 4\\\\\n",
       "\\end{tabular}\n"
      ],
      "text/markdown": [
       "\n",
       "A matrix: 2 × 2 of type int\n",
       "\n",
       "| 1 | 2 |\n",
       "| 3 | 4 |\n",
       "\n"
      ],
      "text/plain": [
       "     [,1] [,2]\n",
       "[1,] 1    2   \n",
       "[2,] 3    4   "
      ]
     },
     "metadata": {},
     "output_type": "display_data"
    },
    {
     "name": "stdout",
     "output_type": "stream",
     "text": [
      "A+B"
     ]
    },
    {
     "data": {
      "text/html": [
       "<table class=\"dataframe\">\n",
       "<caption>A matrix: 2 × 2 of type int</caption>\n",
       "<tbody>\n",
       "\t<tr><td>2</td><td>4</td></tr>\n",
       "\t<tr><td>6</td><td>8</td></tr>\n",
       "</tbody>\n",
       "</table>\n"
      ],
      "text/latex": [
       "A matrix: 2 × 2 of type int\n",
       "\\begin{tabular}{ll}\n",
       "\t 2 & 4\\\\\n",
       "\t 6 & 8\\\\\n",
       "\\end{tabular}\n"
      ],
      "text/markdown": [
       "\n",
       "A matrix: 2 × 2 of type int\n",
       "\n",
       "| 2 | 4 |\n",
       "| 6 | 8 |\n",
       "\n"
      ],
      "text/plain": [
       "     [,1] [,2]\n",
       "[1,] 2    4   \n",
       "[2,] 6    8   "
      ]
     },
     "metadata": {},
     "output_type": "display_data"
    },
    {
     "name": "stdout",
     "output_type": "stream",
     "text": [
      "A-B"
     ]
    },
    {
     "data": {
      "text/html": [
       "<table class=\"dataframe\">\n",
       "<caption>A matrix: 2 × 2 of type int</caption>\n",
       "<tbody>\n",
       "\t<tr><td>0</td><td>0</td></tr>\n",
       "\t<tr><td>0</td><td>0</td></tr>\n",
       "</tbody>\n",
       "</table>\n"
      ],
      "text/latex": [
       "A matrix: 2 × 2 of type int\n",
       "\\begin{tabular}{ll}\n",
       "\t 0 & 0\\\\\n",
       "\t 0 & 0\\\\\n",
       "\\end{tabular}\n"
      ],
      "text/markdown": [
       "\n",
       "A matrix: 2 × 2 of type int\n",
       "\n",
       "| 0 | 0 |\n",
       "| 0 | 0 |\n",
       "\n"
      ],
      "text/plain": [
       "     [,1] [,2]\n",
       "[1,] 0    0   \n",
       "[2,] 0    0   "
      ]
     },
     "metadata": {},
     "output_type": "display_data"
    }
   ],
   "source": [
    "A <-B<-matrix(1:4,nrow = 2,ncol = 2,byrow = TRUE)\n",
    "cat('A')\n",
    "\n",
    "cat('B')\n",
    "B\n",
    "cat(\"A+B\")\n",
    "A+B\n",
    "cat(\"A-B\")\n",
    "A-B"
   ]
  },
  {
   "cell_type": "markdown",
   "metadata": {},
   "source": [
    "<font size = 3>\n",
    "    \n",
    "**相乘: %*%**"
   ]
  },
  {
   "cell_type": "code",
   "execution_count": 45,
   "metadata": {
    "collapsed": true
   },
   "outputs": [
    {
     "data": {
      "text/html": [
       "<table class=\"dataframe\">\n",
       "<caption>A matrix: 3 × 3 of type dbl</caption>\n",
       "<tbody>\n",
       "\t<tr><td> 60</td><td> 70</td><td> 80</td></tr>\n",
       "\t<tr><td>132</td><td>158</td><td>184</td></tr>\n",
       "\t<tr><td>204</td><td>246</td><td>288</td></tr>\n",
       "</tbody>\n",
       "</table>\n"
      ],
      "text/latex": [
       "A matrix: 3 × 3 of type dbl\n",
       "\\begin{tabular}{lll}\n",
       "\t  60 &  70 &  80\\\\\n",
       "\t 132 & 158 & 184\\\\\n",
       "\t 204 & 246 & 288\\\\\n",
       "\\end{tabular}\n"
      ],
      "text/markdown": [
       "\n",
       "A matrix: 3 × 3 of type dbl\n",
       "\n",
       "|  60 |  70 |  80 |\n",
       "| 132 | 158 | 184 |\n",
       "| 204 | 246 | 288 |\n",
       "\n"
      ],
      "text/plain": [
       "     [,1] [,2] [,3]\n",
       "[1,]  60   70   80 \n",
       "[2,] 132  158  184 \n",
       "[3,] 204  246  288 "
      ]
     },
     "metadata": {},
     "output_type": "display_data"
    }
   ],
   "source": [
    "A <- matrix(1:12,nrow = 3,ncol = 4,byrow = TRUE) # 3X4矩阵\n",
    "B <- matrix(0:11,nrow = 4,ncol = 3,byrow = TRUE) # 4X3矩阵\n",
    "C <- A%*%B\n",
    "C"
   ]
  },
  {
   "cell_type": "markdown",
   "metadata": {},
   "source": [
    "<font size = 3>\n",
    "    \n",
    "**对角相关运算 diag()** :\n",
    "取一个**方阵**对角线元素，或生成一个**对角矩阵**，或生成**n维单位阵**\n"
   ]
  },
  {
   "cell_type": "code",
   "execution_count": 47,
   "metadata": {
    "collapsed": true
   },
   "outputs": [
    {
     "data": {
      "text/html": [
       "<table class=\"dataframe\">\n",
       "<caption>A matrix: 4 × 4 of type int</caption>\n",
       "<tbody>\n",
       "\t<tr><td> 1</td><td> 2</td><td> 3</td><td> 4</td></tr>\n",
       "\t<tr><td> 5</td><td> 6</td><td> 7</td><td> 8</td></tr>\n",
       "\t<tr><td> 9</td><td>10</td><td>11</td><td>12</td></tr>\n",
       "\t<tr><td>13</td><td>14</td><td>15</td><td>16</td></tr>\n",
       "</tbody>\n",
       "</table>\n"
      ],
      "text/latex": [
       "A matrix: 4 × 4 of type int\n",
       "\\begin{tabular}{llll}\n",
       "\t  1 &  2 &  3 &  4\\\\\n",
       "\t  5 &  6 &  7 &  8\\\\\n",
       "\t  9 & 10 & 11 & 12\\\\\n",
       "\t 13 & 14 & 15 & 16\\\\\n",
       "\\end{tabular}\n"
      ],
      "text/markdown": [
       "\n",
       "A matrix: 4 × 4 of type int\n",
       "\n",
       "|  1 |  2 |  3 |  4 |\n",
       "|  5 |  6 |  7 |  8 |\n",
       "|  9 | 10 | 11 | 12 |\n",
       "| 13 | 14 | 15 | 16 |\n",
       "\n"
      ],
      "text/plain": [
       "     [,1] [,2] [,3] [,4]\n",
       "[1,]  1    2    3    4  \n",
       "[2,]  5    6    7    8  \n",
       "[3,]  9   10   11   12  \n",
       "[4,] 13   14   15   16  "
      ]
     },
     "metadata": {},
     "output_type": "display_data"
    },
    {
     "data": {
      "text/html": [
       "<style>\n",
       ".list-inline {list-style: none; margin:0; padding: 0}\n",
       ".list-inline>li {display: inline-block}\n",
       ".list-inline>li:not(:last-child)::after {content: \"\\00b7\"; padding: 0 .5ex}\n",
       "</style>\n",
       "<ol class=list-inline><li>1</li><li>6</li><li>11</li><li>16</li></ol>\n"
      ],
      "text/latex": [
       "\\begin{enumerate*}\n",
       "\\item 1\n",
       "\\item 6\n",
       "\\item 11\n",
       "\\item 16\n",
       "\\end{enumerate*}\n"
      ],
      "text/markdown": [
       "1. 1\n",
       "2. 6\n",
       "3. 11\n",
       "4. 16\n",
       "\n",
       "\n"
      ],
      "text/plain": [
       "[1]  1  6 11 16"
      ]
     },
     "metadata": {},
     "output_type": "display_data"
    }
   ],
   "source": [
    "# 取一个方阵对角线元素\n",
    "A <- matrix(1:16,nrow = 4,ncol = 4,byrow = TRUE)\n",
    "A\n",
    "diag(A)"
   ]
  },
  {
   "cell_type": "code",
   "execution_count": 48,
   "metadata": {
    "collapsed": true
   },
   "outputs": [
    {
     "data": {
      "text/html": [
       "<table class=\"dataframe\">\n",
       "<caption>A matrix: 4 × 4 of type dbl</caption>\n",
       "<tbody>\n",
       "\t<tr><td>1</td><td>0</td><td>0</td><td>0</td></tr>\n",
       "\t<tr><td>0</td><td>2</td><td>0</td><td>0</td></tr>\n",
       "\t<tr><td>0</td><td>0</td><td>3</td><td>0</td></tr>\n",
       "\t<tr><td>0</td><td>0</td><td>0</td><td>4</td></tr>\n",
       "</tbody>\n",
       "</table>\n"
      ],
      "text/latex": [
       "A matrix: 4 × 4 of type dbl\n",
       "\\begin{tabular}{llll}\n",
       "\t 1 & 0 & 0 & 0\\\\\n",
       "\t 0 & 2 & 0 & 0\\\\\n",
       "\t 0 & 0 & 3 & 0\\\\\n",
       "\t 0 & 0 & 0 & 4\\\\\n",
       "\\end{tabular}\n"
      ],
      "text/markdown": [
       "\n",
       "A matrix: 4 × 4 of type dbl\n",
       "\n",
       "| 1 | 0 | 0 | 0 |\n",
       "| 0 | 2 | 0 | 0 |\n",
       "| 0 | 0 | 3 | 0 |\n",
       "| 0 | 0 | 0 | 4 |\n",
       "\n"
      ],
      "text/plain": [
       "     [,1] [,2] [,3] [,4]\n",
       "[1,] 1    0    0    0   \n",
       "[2,] 0    2    0    0   \n",
       "[3,] 0    0    3    0   \n",
       "[4,] 0    0    0    4   "
      ]
     },
     "metadata": {},
     "output_type": "display_data"
    }
   ],
   "source": [
    "# 生成一个对角矩阵\n",
    "l = c(1,2,3,4)\n",
    "diag(l)"
   ]
  },
  {
   "cell_type": "code",
   "execution_count": 49,
   "metadata": {
    "collapsed": true
   },
   "outputs": [
    {
     "data": {
      "text/html": [
       "<table class=\"dataframe\">\n",
       "<caption>A matrix: 3 × 3 of type dbl</caption>\n",
       "<tbody>\n",
       "\t<tr><td>1</td><td>0</td><td>0</td></tr>\n",
       "\t<tr><td>0</td><td>1</td><td>0</td></tr>\n",
       "\t<tr><td>0</td><td>0</td><td>1</td></tr>\n",
       "</tbody>\n",
       "</table>\n"
      ],
      "text/latex": [
       "A matrix: 3 × 3 of type dbl\n",
       "\\begin{tabular}{lll}\n",
       "\t 1 & 0 & 0\\\\\n",
       "\t 0 & 1 & 0\\\\\n",
       "\t 0 & 0 & 1\\\\\n",
       "\\end{tabular}\n"
      ],
      "text/markdown": [
       "\n",
       "A matrix: 3 × 3 of type dbl\n",
       "\n",
       "| 1 | 0 | 0 |\n",
       "| 0 | 1 | 0 |\n",
       "| 0 | 0 | 1 |\n",
       "\n"
      ],
      "text/plain": [
       "     [,1] [,2] [,3]\n",
       "[1,] 1    0    0   \n",
       "[2,] 0    1    0   \n",
       "[3,] 0    0    1   "
      ]
     },
     "metadata": {},
     "output_type": "display_data"
    }
   ],
   "source": [
    "# 生成n维单位阵\n",
    "n <- 3\n",
    "diag(n)"
   ]
  },
  {
   "cell_type": "markdown",
   "metadata": {},
   "source": [
    "<font size = 3>\n",
    "    \n",
    "**求逆：solve()** <br/>solve(A,b)可解线性方程组$Ax=b$,若$b$缺省，默认为单位阵，可求逆"
   ]
  },
  {
   "cell_type": "code",
   "execution_count": 55,
   "metadata": {
    "collapsed": true
   },
   "outputs": [
    {
     "data": {
      "text/html": [
       "<table class=\"dataframe\">\n",
       "<caption>A matrix: 4 × 4 of type dbl</caption>\n",
       "<tbody>\n",
       "\t<tr><td> 1.2131109</td><td> 0.109729118</td><td>-1.760579</td><td> 1.3520511</td></tr>\n",
       "\t<tr><td>-0.8900859</td><td> 1.193467763</td><td> 1.982229</td><td>-1.5866450</td></tr>\n",
       "\t<tr><td> 0.8887794</td><td>-0.004810949</td><td> 1.014606</td><td>-1.5145237</td></tr>\n",
       "\t<tr><td> 0.8106566</td><td>-0.448730711</td><td> 2.249084</td><td>-0.1864696</td></tr>\n",
       "</tbody>\n",
       "</table>\n"
      ],
      "text/latex": [
       "A matrix: 4 × 4 of type dbl\n",
       "\\begin{tabular}{llll}\n",
       "\t  1.2131109 &  0.109729118 & -1.760579 &  1.3520511\\\\\n",
       "\t -0.8900859 &  1.193467763 &  1.982229 & -1.5866450\\\\\n",
       "\t  0.8887794 & -0.004810949 &  1.014606 & -1.5145237\\\\\n",
       "\t  0.8106566 & -0.448730711 &  2.249084 & -0.1864696\\\\\n",
       "\\end{tabular}\n"
      ],
      "text/markdown": [
       "\n",
       "A matrix: 4 × 4 of type dbl\n",
       "\n",
       "|  1.2131109 |  0.109729118 | -1.760579 |  1.3520511 |\n",
       "| -0.8900859 |  1.193467763 |  1.982229 | -1.5866450 |\n",
       "|  0.8887794 | -0.004810949 |  1.014606 | -1.5145237 |\n",
       "|  0.8106566 | -0.448730711 |  2.249084 | -0.1864696 |\n",
       "\n"
      ],
      "text/plain": [
       "     [,1]       [,2]         [,3]      [,4]      \n",
       "[1,]  1.2131109  0.109729118 -1.760579  1.3520511\n",
       "[2,] -0.8900859  1.193467763  1.982229 -1.5866450\n",
       "[3,]  0.8887794 -0.004810949  1.014606 -1.5145237\n",
       "[4,]  0.8106566 -0.448730711  2.249084 -0.1864696"
      ]
     },
     "metadata": {},
     "output_type": "display_data"
    },
    {
     "data": {
      "text/html": [
       "<table class=\"dataframe\">\n",
       "<caption>A matrix: 4 × 4 of type dbl</caption>\n",
       "<tbody>\n",
       "\t<tr><td> 0.459888578</td><td>0.02473987</td><td> 0.3631676</td><td> 0.17436343</td></tr>\n",
       "\t<tr><td> 0.701718432</td><td>0.75590497</td><td>-0.1599500</td><td>-0.04475586</td></tr>\n",
       "\t<tr><td>-0.003775772</td><td>0.15130737</td><td>-0.2115959</td><td> 0.40377030</td></tr>\n",
       "\t<tr><td> 0.265121393</td><td>0.11348062</td><td>-0.5883970</td><td> 0.37295809</td></tr>\n",
       "</tbody>\n",
       "</table>\n"
      ],
      "text/latex": [
       "A matrix: 4 × 4 of type dbl\n",
       "\\begin{tabular}{llll}\n",
       "\t  0.459888578 & 0.02473987 &  0.3631676 &  0.17436343\\\\\n",
       "\t  0.701718432 & 0.75590497 & -0.1599500 & -0.04475586\\\\\n",
       "\t -0.003775772 & 0.15130737 & -0.2115959 &  0.40377030\\\\\n",
       "\t  0.265121393 & 0.11348062 & -0.5883970 &  0.37295809\\\\\n",
       "\\end{tabular}\n"
      ],
      "text/markdown": [
       "\n",
       "A matrix: 4 × 4 of type dbl\n",
       "\n",
       "|  0.459888578 | 0.02473987 |  0.3631676 |  0.17436343 |\n",
       "|  0.701718432 | 0.75590497 | -0.1599500 | -0.04475586 |\n",
       "| -0.003775772 | 0.15130737 | -0.2115959 |  0.40377030 |\n",
       "|  0.265121393 | 0.11348062 | -0.5883970 |  0.37295809 |\n",
       "\n"
      ],
      "text/plain": [
       "     [,1]         [,2]       [,3]       [,4]       \n",
       "[1,]  0.459888578 0.02473987  0.3631676  0.17436343\n",
       "[2,]  0.701718432 0.75590497 -0.1599500 -0.04475586\n",
       "[3,] -0.003775772 0.15130737 -0.2115959  0.40377030\n",
       "[4,]  0.265121393 0.11348062 -0.5883970  0.37295809"
      ]
     },
     "metadata": {},
     "output_type": "display_data"
    },
    {
     "data": {
      "text/html": [
       "<table class=\"dataframe\">\n",
       "<caption>A matrix: 4 × 4 of type dbl</caption>\n",
       "<tbody>\n",
       "\t<tr><td> 1.000000e+00</td><td>0.000000e+00</td><td>0.000000e+00</td><td>0</td></tr>\n",
       "\t<tr><td> 0.000000e+00</td><td>1.000000e+00</td><td>0.000000e+00</td><td>0</td></tr>\n",
       "\t<tr><td> 0.000000e+00</td><td>2.775558e-17</td><td>1.000000e+00</td><td>0</td></tr>\n",
       "\t<tr><td>-1.387779e-17</td><td>8.326673e-17</td><td>8.326673e-17</td><td>1</td></tr>\n",
       "</tbody>\n",
       "</table>\n"
      ],
      "text/latex": [
       "A matrix: 4 × 4 of type dbl\n",
       "\\begin{tabular}{llll}\n",
       "\t  1.000000e+00 & 0.000000e+00 & 0.000000e+00 & 0\\\\\n",
       "\t  0.000000e+00 & 1.000000e+00 & 0.000000e+00 & 0\\\\\n",
       "\t  0.000000e+00 & 2.775558e-17 & 1.000000e+00 & 0\\\\\n",
       "\t -1.387779e-17 & 8.326673e-17 & 8.326673e-17 & 1\\\\\n",
       "\\end{tabular}\n"
      ],
      "text/markdown": [
       "\n",
       "A matrix: 4 × 4 of type dbl\n",
       "\n",
       "|  1.000000e+00 | 0.000000e+00 | 0.000000e+00 | 0 |\n",
       "|  0.000000e+00 | 1.000000e+00 | 0.000000e+00 | 0 |\n",
       "|  0.000000e+00 | 2.775558e-17 | 1.000000e+00 | 0 |\n",
       "| -1.387779e-17 | 8.326673e-17 | 8.326673e-17 | 1 |\n",
       "\n"
      ],
      "text/plain": [
       "     [,1]          [,2]         [,3]         [,4]\n",
       "[1,]  1.000000e+00 0.000000e+00 0.000000e+00 0   \n",
       "[2,]  0.000000e+00 1.000000e+00 0.000000e+00 0   \n",
       "[3,]  0.000000e+00 2.775558e-17 1.000000e+00 0   \n",
       "[4,] -1.387779e-17 8.326673e-17 8.326673e-17 1   "
      ]
     },
     "metadata": {},
     "output_type": "display_data"
    }
   ],
   "source": [
    "A <- matrix(rnorm(16),4,4) # 3X4矩阵\n",
    "A\n",
    "\n",
    "solve(A) #求逆\n",
    "A%*%solve(A) # A与其逆矩阵相乘得单位阵"
   ]
  },
  {
   "cell_type": "markdown",
   "metadata": {},
   "source": [
    "<font size = 3>\n",
    "    \n",
    "**矩阵特征值和特征向量**\n",
    "矩阵$A$的谱分解为$A=UAU'$，其中$A$是由$A$的**特征值组成的对角矩阵**，$U$的列为$A$的**特征值对应的特征向量**,在R中可以用函数**eigen()** 得到U和A。\n",
    "\n",
    "eigen( x , symmetric , only. values = FALSE, EISPACK =FALSE)\n",
    "\n",
    "其中，**x**为**矩阵**，**symmetric**项指定矩阵x是否为对称矩阵，若不指定，系统将自动检测x是否为对称矩阵\n"
   ]
  },
  {
   "cell_type": "code",
   "execution_count": 13,
   "metadata": {
    "collapsed": true
   },
   "outputs": [
    {
     "data": {
      "text/html": [
       "<table class=\"dataframe\">\n",
       "<caption>A matrix: 4 × 4 of type dbl</caption>\n",
       "<tbody>\n",
       "\t<tr><td>2</td><td>1</td><td>1</td><td>1</td></tr>\n",
       "\t<tr><td>1</td><td>2</td><td>1</td><td>1</td></tr>\n",
       "\t<tr><td>1</td><td>1</td><td>2</td><td>1</td></tr>\n",
       "\t<tr><td>1</td><td>1</td><td>1</td><td>2</td></tr>\n",
       "</tbody>\n",
       "</table>\n"
      ],
      "text/latex": [
       "A matrix: 4 × 4 of type dbl\n",
       "\\begin{tabular}{llll}\n",
       "\t 2 & 1 & 1 & 1\\\\\n",
       "\t 1 & 2 & 1 & 1\\\\\n",
       "\t 1 & 1 & 2 & 1\\\\\n",
       "\t 1 & 1 & 1 & 2\\\\\n",
       "\\end{tabular}\n"
      ],
      "text/markdown": [
       "\n",
       "A matrix: 4 × 4 of type dbl\n",
       "\n",
       "| 2 | 1 | 1 | 1 |\n",
       "| 1 | 2 | 1 | 1 |\n",
       "| 1 | 1 | 2 | 1 |\n",
       "| 1 | 1 | 1 | 2 |\n",
       "\n"
      ],
      "text/plain": [
       "     [,1] [,2] [,3] [,4]\n",
       "[1,] 2    1    1    1   \n",
       "[2,] 1    2    1    1   \n",
       "[3,] 1    1    2    1   \n",
       "[4,] 1    1    1    2   "
      ]
     },
     "metadata": {},
     "output_type": "display_data"
    },
    {
     "data": {
      "text/html": [
       "<style>\n",
       ".list-inline {list-style: none; margin:0; padding: 0}\n",
       ".list-inline>li {display: inline-block}\n",
       ".list-inline>li:not(:last-child)::after {content: \"\\00b7\"; padding: 0 .5ex}\n",
       "</style>\n",
       "<ol class=list-inline><li>5</li><li>1</li><li>1</li><li>1</li></ol>\n"
      ],
      "text/latex": [
       "\\begin{enumerate*}\n",
       "\\item 5\n",
       "\\item 1\n",
       "\\item 1\n",
       "\\item 1\n",
       "\\end{enumerate*}\n"
      ],
      "text/markdown": [
       "1. 5\n",
       "2. 1\n",
       "3. 1\n",
       "4. 1\n",
       "\n",
       "\n"
      ],
      "text/plain": [
       "[1] 5 1 1 1"
      ]
     },
     "metadata": {},
     "output_type": "display_data"
    },
    {
     "data": {
      "text/html": [
       "<table class=\"dataframe\">\n",
       "<caption>A matrix: 4 × 4 of type dbl</caption>\n",
       "<tbody>\n",
       "\t<tr><td>-0.5</td><td> 0.8660254</td><td> 0.0000000</td><td> 0.0000000</td></tr>\n",
       "\t<tr><td>-0.5</td><td>-0.2886751</td><td>-0.5773503</td><td>-0.5773503</td></tr>\n",
       "\t<tr><td>-0.5</td><td>-0.2886751</td><td>-0.2113249</td><td> 0.7886751</td></tr>\n",
       "\t<tr><td>-0.5</td><td>-0.2886751</td><td> 0.7886751</td><td>-0.2113249</td></tr>\n",
       "</tbody>\n",
       "</table>\n"
      ],
      "text/latex": [
       "A matrix: 4 × 4 of type dbl\n",
       "\\begin{tabular}{llll}\n",
       "\t -0.5 &  0.8660254 &  0.0000000 &  0.0000000\\\\\n",
       "\t -0.5 & -0.2886751 & -0.5773503 & -0.5773503\\\\\n",
       "\t -0.5 & -0.2886751 & -0.2113249 &  0.7886751\\\\\n",
       "\t -0.5 & -0.2886751 &  0.7886751 & -0.2113249\\\\\n",
       "\\end{tabular}\n"
      ],
      "text/markdown": [
       "\n",
       "A matrix: 4 × 4 of type dbl\n",
       "\n",
       "| -0.5 |  0.8660254 |  0.0000000 |  0.0000000 |\n",
       "| -0.5 | -0.2886751 | -0.5773503 | -0.5773503 |\n",
       "| -0.5 | -0.2886751 | -0.2113249 |  0.7886751 |\n",
       "| -0.5 | -0.2886751 |  0.7886751 | -0.2113249 |\n",
       "\n"
      ],
      "text/plain": [
       "     [,1] [,2]       [,3]       [,4]      \n",
       "[1,] -0.5  0.8660254  0.0000000  0.0000000\n",
       "[2,] -0.5 -0.2886751 -0.5773503 -0.5773503\n",
       "[3,] -0.5 -0.2886751 -0.2113249  0.7886751\n",
       "[4,] -0.5 -0.2886751  0.7886751 -0.2113249"
      ]
     },
     "metadata": {},
     "output_type": "display_data"
    },
    {
     "data": {
      "text/html": [
       "<table class=\"dataframe\">\n",
       "<caption>A matrix: 4 × 4 of type dbl</caption>\n",
       "<tbody>\n",
       "\t<tr><td>2</td><td>1</td><td>1</td><td>1</td></tr>\n",
       "\t<tr><td>1</td><td>2</td><td>1</td><td>1</td></tr>\n",
       "\t<tr><td>1</td><td>1</td><td>2</td><td>1</td></tr>\n",
       "\t<tr><td>1</td><td>1</td><td>1</td><td>2</td></tr>\n",
       "</tbody>\n",
       "</table>\n"
      ],
      "text/latex": [
       "A matrix: 4 × 4 of type dbl\n",
       "\\begin{tabular}{llll}\n",
       "\t 2 & 1 & 1 & 1\\\\\n",
       "\t 1 & 2 & 1 & 1\\\\\n",
       "\t 1 & 1 & 2 & 1\\\\\n",
       "\t 1 & 1 & 1 & 2\\\\\n",
       "\\end{tabular}\n"
      ],
      "text/markdown": [
       "\n",
       "A matrix: 4 × 4 of type dbl\n",
       "\n",
       "| 2 | 1 | 1 | 1 |\n",
       "| 1 | 2 | 1 | 1 |\n",
       "| 1 | 1 | 2 | 1 |\n",
       "| 1 | 1 | 1 | 2 |\n",
       "\n"
      ],
      "text/plain": [
       "     [,1] [,2] [,3] [,4]\n",
       "[1,] 2    1    1    1   \n",
       "[2,] 1    2    1    1   \n",
       "[3,] 1    1    2    1   \n",
       "[4,] 1    1    1    2   "
      ]
     },
     "metadata": {},
     "output_type": "display_data"
    }
   ],
   "source": [
    "# 矩阵特征值和特征向量\n",
    "A <- diag(4)+1\n",
    "A.e <-eigen(A,symmetric = T)\n",
    "A\n",
    "A.e$values #特征值\n",
    "A.e$vectors #特征向量\n",
    "A.e$vectors%*%diag(A.e$values)%*%t(A.e$vectors)"
   ]
  },
  {
   "cell_type": "markdown",
   "metadata": {},
   "source": [
    "<font size = 3>\n",
    "    \n",
    "**矩阵Choleskey分解**\n",
    "对于正定矩阵$A$，可对其进行Choleskey 分解，即$A=P'P$，其中，$P$为上三角矩阵，在R中可以用函数**chol()** 进行Choleskey分解"
   ]
  },
  {
   "cell_type": "code",
   "execution_count": 14,
   "metadata": {
    "collapsed": true
   },
   "outputs": [
    {
     "data": {
      "text/html": [
       "<table class=\"dataframe\">\n",
       "<caption>A matrix: 4 × 4 of type dbl</caption>\n",
       "<tbody>\n",
       "\t<tr><td>1.414214</td><td>0.7071068</td><td>0.7071068</td><td>0.7071068</td></tr>\n",
       "\t<tr><td>0.000000</td><td>1.2247449</td><td>0.4082483</td><td>0.4082483</td></tr>\n",
       "\t<tr><td>0.000000</td><td>0.0000000</td><td>1.1547005</td><td>0.2886751</td></tr>\n",
       "\t<tr><td>0.000000</td><td>0.0000000</td><td>0.0000000</td><td>1.1180340</td></tr>\n",
       "</tbody>\n",
       "</table>\n"
      ],
      "text/latex": [
       "A matrix: 4 × 4 of type dbl\n",
       "\\begin{tabular}{llll}\n",
       "\t 1.414214 & 0.7071068 & 0.7071068 & 0.7071068\\\\\n",
       "\t 0.000000 & 1.2247449 & 0.4082483 & 0.4082483\\\\\n",
       "\t 0.000000 & 0.0000000 & 1.1547005 & 0.2886751\\\\\n",
       "\t 0.000000 & 0.0000000 & 0.0000000 & 1.1180340\\\\\n",
       "\\end{tabular}\n"
      ],
      "text/markdown": [
       "\n",
       "A matrix: 4 × 4 of type dbl\n",
       "\n",
       "| 1.414214 | 0.7071068 | 0.7071068 | 0.7071068 |\n",
       "| 0.000000 | 1.2247449 | 0.4082483 | 0.4082483 |\n",
       "| 0.000000 | 0.0000000 | 1.1547005 | 0.2886751 |\n",
       "| 0.000000 | 0.0000000 | 0.0000000 | 1.1180340 |\n",
       "\n"
      ],
      "text/plain": [
       "     [,1]     [,2]      [,3]      [,4]     \n",
       "[1,] 1.414214 0.7071068 0.7071068 0.7071068\n",
       "[2,] 0.000000 1.2247449 0.4082483 0.4082483\n",
       "[3,] 0.000000 0.0000000 1.1547005 0.2886751\n",
       "[4,] 0.000000 0.0000000 0.0000000 1.1180340"
      ]
     },
     "metadata": {},
     "output_type": "display_data"
    },
    {
     "data": {
      "text/html": [
       "<table class=\"dataframe\">\n",
       "<caption>A matrix: 4 × 4 of type dbl</caption>\n",
       "<tbody>\n",
       "\t<tr><td>2</td><td>1</td><td>1</td><td>1</td></tr>\n",
       "\t<tr><td>1</td><td>2</td><td>1</td><td>1</td></tr>\n",
       "\t<tr><td>1</td><td>1</td><td>2</td><td>1</td></tr>\n",
       "\t<tr><td>1</td><td>1</td><td>1</td><td>2</td></tr>\n",
       "</tbody>\n",
       "</table>\n"
      ],
      "text/latex": [
       "A matrix: 4 × 4 of type dbl\n",
       "\\begin{tabular}{llll}\n",
       "\t 2 & 1 & 1 & 1\\\\\n",
       "\t 1 & 2 & 1 & 1\\\\\n",
       "\t 1 & 1 & 2 & 1\\\\\n",
       "\t 1 & 1 & 1 & 2\\\\\n",
       "\\end{tabular}\n"
      ],
      "text/markdown": [
       "\n",
       "A matrix: 4 × 4 of type dbl\n",
       "\n",
       "| 2 | 1 | 1 | 1 |\n",
       "| 1 | 2 | 1 | 1 |\n",
       "| 1 | 1 | 2 | 1 |\n",
       "| 1 | 1 | 1 | 2 |\n",
       "\n"
      ],
      "text/plain": [
       "     [,1] [,2] [,3] [,4]\n",
       "[1,] 2    1    1    1   \n",
       "[2,] 1    2    1    1   \n",
       "[3,] 1    1    2    1   \n",
       "[4,] 1    1    1    2   "
      ]
     },
     "metadata": {},
     "output_type": "display_data"
    }
   ],
   "source": [
    "A <- diag(4)+1\n",
    "A.c <-chol(A)\n",
    "A.c\n",
    "t(A.c)%*%A.c"
   ]
  },
  {
   "cell_type": "markdown",
   "metadata": {},
   "source": [
    "<font size = 3>\n",
    "    \n",
    "**矩阵奇异值分解**：\n",
    "对于矩阵$A(m×n)，rank(A)=r$，可分解为$A=UDV'$，其中，$U'U = V'V= I$。在R中可以用**svd()**进行奇异值分解"
   ]
  },
  {
   "cell_type": "code",
   "execution_count": 16,
   "metadata": {
    "collapsed": true
   },
   "outputs": [
    {
     "data": {
      "text/html": [
       "<dl>\n",
       "\t<dt>$d</dt>\n",
       "\t\t<dd><style>\n",
       ".list-inline {list-style: none; margin:0; padding: 0}\n",
       ".list-inline>li {display: inline-block}\n",
       ".list-inline>li:not(:last-child)::after {content: \"\\00b7\"; padding: 0 .5ex}\n",
       "</style>\n",
       "<ol class=list-inline><li>45.8945322027251</li><li>1.6407053035306</li><li>1.36652174299492e-15</li></ol>\n",
       "</dd>\n",
       "\t<dt>$u</dt>\n",
       "\t\t<dd><table class=\"dataframe\">\n",
       "<caption>A matrix: 3 × 3 of type dbl</caption>\n",
       "<tbody>\n",
       "\t<tr><td>-0.5290354</td><td> 0.74394551</td><td> 0.4082483</td></tr>\n",
       "\t<tr><td>-0.5760715</td><td> 0.03840487</td><td>-0.8164966</td></tr>\n",
       "\t<tr><td>-0.6231077</td><td>-0.66713577</td><td> 0.4082483</td></tr>\n",
       "</tbody>\n",
       "</table>\n",
       "</dd>\n",
       "\t<dt>$v</dt>\n",
       "\t\t<dd><table class=\"dataframe\">\n",
       "<caption>A matrix: 6 × 3 of type dbl</caption>\n",
       "<tbody>\n",
       "\t<tr><td>-0.07736219</td><td>-0.71960032</td><td>-0.4076688</td></tr>\n",
       "\t<tr><td>-0.19033085</td><td>-0.50893247</td><td> 0.5745647</td></tr>\n",
       "\t<tr><td>-0.30329950</td><td>-0.29826463</td><td>-0.0280114</td></tr>\n",
       "\t<tr><td>-0.41626816</td><td>-0.08759679</td><td> 0.2226621</td></tr>\n",
       "\t<tr><td>-0.52923682</td><td> 0.12307105</td><td>-0.6212052</td></tr>\n",
       "\t<tr><td>-0.64220548</td><td> 0.33373889</td><td> 0.2596585</td></tr>\n",
       "</tbody>\n",
       "</table>\n",
       "</dd>\n",
       "</dl>\n"
      ],
      "text/latex": [
       "\\begin{description}\n",
       "\\item[\\$d] \\begin{enumerate*}\n",
       "\\item 45.8945322027251\n",
       "\\item 1.6407053035306\n",
       "\\item 1.36652174299492e-15\n",
       "\\end{enumerate*}\n",
       "\n",
       "\\item[\\$u] A matrix: 3 × 3 of type dbl\n",
       "\\begin{tabular}{lll}\n",
       "\t -0.5290354 &  0.74394551 &  0.4082483\\\\\n",
       "\t -0.5760715 &  0.03840487 & -0.8164966\\\\\n",
       "\t -0.6231077 & -0.66713577 &  0.4082483\\\\\n",
       "\\end{tabular}\n",
       "\n",
       "\\item[\\$v] A matrix: 6 × 3 of type dbl\n",
       "\\begin{tabular}{lll}\n",
       "\t -0.07736219 & -0.71960032 & -0.4076688\\\\\n",
       "\t -0.19033085 & -0.50893247 &  0.5745647\\\\\n",
       "\t -0.30329950 & -0.29826463 & -0.0280114\\\\\n",
       "\t -0.41626816 & -0.08759679 &  0.2226621\\\\\n",
       "\t -0.52923682 &  0.12307105 & -0.6212052\\\\\n",
       "\t -0.64220548 &  0.33373889 &  0.2596585\\\\\n",
       "\\end{tabular}\n",
       "\n",
       "\\end{description}\n"
      ],
      "text/markdown": [
       "$d\n",
       ":   1. 45.8945322027251\n",
       "2. 1.6407053035306\n",
       "3. 1.36652174299492e-15\n",
       "\n",
       "\n",
       "\n",
       "$u\n",
       ":   \n",
       "A matrix: 3 × 3 of type dbl\n",
       "\n",
       "| -0.5290354 |  0.74394551 |  0.4082483 |\n",
       "| -0.5760715 |  0.03840487 | -0.8164966 |\n",
       "| -0.6231077 | -0.66713577 |  0.4082483 |\n",
       "\n",
       "\n",
       "$v\n",
       ":   \n",
       "A matrix: 6 × 3 of type dbl\n",
       "\n",
       "| -0.07736219 | -0.71960032 | -0.4076688 |\n",
       "| -0.19033085 | -0.50893247 |  0.5745647 |\n",
       "| -0.30329950 | -0.29826463 | -0.0280114 |\n",
       "| -0.41626816 | -0.08759679 |  0.2226621 |\n",
       "| -0.52923682 |  0.12307105 | -0.6212052 |\n",
       "| -0.64220548 |  0.33373889 |  0.2596585 |\n",
       "\n",
       "\n",
       "\n",
       "\n"
      ],
      "text/plain": [
       "$d\n",
       "[1] 4.589453e+01 1.640705e+00 1.366522e-15\n",
       "\n",
       "$u\n",
       "           [,1]        [,2]       [,3]\n",
       "[1,] -0.5290354  0.74394551  0.4082483\n",
       "[2,] -0.5760715  0.03840487 -0.8164966\n",
       "[3,] -0.6231077 -0.66713577  0.4082483\n",
       "\n",
       "$v\n",
       "            [,1]        [,2]       [,3]\n",
       "[1,] -0.07736219 -0.71960032 -0.4076688\n",
       "[2,] -0.19033085 -0.50893247  0.5745647\n",
       "[3,] -0.30329950 -0.29826463 -0.0280114\n",
       "[4,] -0.41626816 -0.08759679  0.2226621\n",
       "[5,] -0.52923682  0.12307105 -0.6212052\n",
       "[6,] -0.64220548  0.33373889  0.2596585\n"
      ]
     },
     "metadata": {},
     "output_type": "display_data"
    },
    {
     "data": {
      "text/html": [
       "<table class=\"dataframe\">\n",
       "<caption>A matrix: 3 × 6 of type dbl</caption>\n",
       "<tbody>\n",
       "\t<tr><td>1</td><td>4</td><td>7</td><td>10</td><td>13</td><td>16</td></tr>\n",
       "\t<tr><td>2</td><td>5</td><td>8</td><td>11</td><td>14</td><td>17</td></tr>\n",
       "\t<tr><td>3</td><td>6</td><td>9</td><td>12</td><td>15</td><td>18</td></tr>\n",
       "</tbody>\n",
       "</table>\n"
      ],
      "text/latex": [
       "A matrix: 3 × 6 of type dbl\n",
       "\\begin{tabular}{llllll}\n",
       "\t 1 & 4 & 7 & 10 & 13 & 16\\\\\n",
       "\t 2 & 5 & 8 & 11 & 14 & 17\\\\\n",
       "\t 3 & 6 & 9 & 12 & 15 & 18\\\\\n",
       "\\end{tabular}\n"
      ],
      "text/markdown": [
       "\n",
       "A matrix: 3 × 6 of type dbl\n",
       "\n",
       "| 1 | 4 | 7 | 10 | 13 | 16 |\n",
       "| 2 | 5 | 8 | 11 | 14 | 17 |\n",
       "| 3 | 6 | 9 | 12 | 15 | 18 |\n",
       "\n"
      ],
      "text/plain": [
       "     [,1] [,2] [,3] [,4] [,5] [,6]\n",
       "[1,] 1    4    7    10   13   16  \n",
       "[2,] 2    5    8    11   14   17  \n",
       "[3,] 3    6    9    12   15   18  "
      ]
     },
     "metadata": {},
     "output_type": "display_data"
    }
   ],
   "source": [
    "A <- matrix(1:18,3,6)\n",
    "A.s <- svd(A)\n",
    "A.s\n",
    "A.s$u%*%diag(A.s$d)%*%t(A.s$v)"
   ]
  },
  {
   "cell_type": "markdown",
   "metadata": {},
   "source": [
    "<font size = 3>\n",
    "    \n",
    "**矩阵奇QR分解**：\n",
    "对于矩阵$A(m×n)$，可QR分解为$A=QR$，其中，$Q'Q=I$。在R中可以用**qr()** 进行QR分解"
   ]
  },
  {
   "cell_type": "code",
   "execution_count": 18,
   "metadata": {
    "collapsed": true
   },
   "outputs": [
    {
     "data": {
      "text/plain": [
       "$qr\n",
       "           [,1]        [,2]          [,3]          [,4]\n",
       "[1,] -5.4772256 -12.7801930 -2.008316e+01 -2.738613e+01\n",
       "[2,]  0.3651484  -3.2659863 -6.531973e+00 -9.797959e+00\n",
       "[3,]  0.5477226  -0.3781696  1.601186e-15  2.217027e-15\n",
       "[4,]  0.7302967  -0.9124744 -5.547002e-01 -1.478018e-15\n",
       "\n",
       "$rank\n",
       "[1] 2\n",
       "\n",
       "$qraux\n",
       "[1] 1.182574e+00 1.156135e+00 1.832050e+00 1.478018e-15\n",
       "\n",
       "$pivot\n",
       "[1] 1 2 3 4\n",
       "\n",
       "attr(,\"class\")\n",
       "[1] \"qr\""
      ]
     },
     "metadata": {},
     "output_type": "display_data"
    }
   ],
   "source": [
    "A <- matrix(1:16,4,4)\n",
    "qr(A)"
   ]
  },
  {
   "cell_type": "markdown",
   "metadata": {},
   "source": [
    "<font size = 3>\n",
    "\n",
    "**其他运算**：**矩阵维数：dim()，行数：nrow()，列数：mcol\n",
    "()**\n",
    "\n",
    "**矩阵的行和：rowSums()，列和：colSums()，行平均：rowMeans()，列平均：colMeans()**\n",
    "\n",
    "**apply(X,MARGIN,FUN,...)**:\n",
    "其中，**X：矩阵**，**MARGIN** 用来指定是**对行运算还是对列运算**，MARGIN =1表示对行运算，MARGIN =2表示对列运算，**FUN** 用来指定**运算函数**，FUN包括但不限于sum，mean，var等。“…”用来给定FUN中需要的其他参数,例如:\n"
   ]
  },
  {
   "cell_type": "markdown",
   "metadata": {},
   "source": [
    "### 4 数据框\n",
    "<font size =3>\n",
    "    \n",
    "**数据框（data frame）**是一种矩阵形式的数据，但数据框中各列可以是不同类型的数据。数据框每列是一个变量，每行是一个观测量。数据框可以看成是矩阵(matrix)的推广，也可以看作是一种特殊的列表对象(list)。数列入数据框中的列表对象有如下限制:\n",
    "\n",
    "(1）分量必须是向量（数值、字符、逻辑)、因子、数值矩阵、列表或其他数据框。<br/>\n",
    "(2）矩阵、列表和数据框为新的数据框提供了尽可能多的变量，因为它们各自拥有列元素或变量。<br/>\n",
    "(3）数值向量、逻辑值、因子保持原有格式，而字符向量会被强制转换成因子并它的水平就是向量中出现的独立值。<br/>\n",
    "(4）在数据框中以变量形式出现的向量长度必须一致，矩阵结构必须有一样的行数。\n",
    "\n",
    "R语言中用函数 **data.frame()** 生成数据框:**data.frame ( data1,data2,…)**\n"
   ]
  },
  {
   "cell_type": "code",
   "execution_count": 1,
   "metadata": {
    "collapsed": true
   },
   "outputs": [
    {
     "data": {
      "text/html": [
       "<table class=\"dataframe\">\n",
       "<caption>A data.frame: 12 × 2</caption>\n",
       "<thead>\n",
       "\t<tr><th scope=col>Height</th><th scope=col>Weight</th></tr>\n",
       "\t<tr><th scope=col>&lt;dbl&gt;</th><th scope=col>&lt;dbl&gt;</th></tr>\n",
       "</thead>\n",
       "<tbody>\n",
       "\t<tr><td>171</td><td>57</td></tr>\n",
       "\t<tr><td>175</td><td>64</td></tr>\n",
       "\t<tr><td>159</td><td>41</td></tr>\n",
       "\t<tr><td>155</td><td>38</td></tr>\n",
       "\t<tr><td>152</td><td>35</td></tr>\n",
       "\t<tr><td>158</td><td>44</td></tr>\n",
       "\t<tr><td>154</td><td>41</td></tr>\n",
       "\t<tr><td>164</td><td>51</td></tr>\n",
       "\t<tr><td>168</td><td>57</td></tr>\n",
       "\t<tr><td>166</td><td>49</td></tr>\n",
       "\t<tr><td>159</td><td>47</td></tr>\n",
       "\t<tr><td>164</td><td>46</td></tr>\n",
       "</tbody>\n",
       "</table>\n"
      ],
      "text/latex": [
       "A data.frame: 12 × 2\n",
       "\\begin{tabular}{ll}\n",
       " Height & Weight\\\\\n",
       " <dbl> & <dbl>\\\\\n",
       "\\hline\n",
       "\t 171 & 57\\\\\n",
       "\t 175 & 64\\\\\n",
       "\t 159 & 41\\\\\n",
       "\t 155 & 38\\\\\n",
       "\t 152 & 35\\\\\n",
       "\t 158 & 44\\\\\n",
       "\t 154 & 41\\\\\n",
       "\t 164 & 51\\\\\n",
       "\t 168 & 57\\\\\n",
       "\t 166 & 49\\\\\n",
       "\t 159 & 47\\\\\n",
       "\t 164 & 46\\\\\n",
       "\\end{tabular}\n"
      ],
      "text/markdown": [
       "\n",
       "A data.frame: 12 × 2\n",
       "\n",
       "| Height &lt;dbl&gt; | Weight &lt;dbl&gt; |\n",
       "|---|---|\n",
       "| 171 | 57 |\n",
       "| 175 | 64 |\n",
       "| 159 | 41 |\n",
       "| 155 | 38 |\n",
       "| 152 | 35 |\n",
       "| 158 | 44 |\n",
       "| 154 | 41 |\n",
       "| 164 | 51 |\n",
       "| 168 | 57 |\n",
       "| 166 | 49 |\n",
       "| 159 | 47 |\n",
       "| 164 | 46 |\n",
       "\n"
      ],
      "text/plain": [
       "   Height Weight\n",
       "1  171    57    \n",
       "2  175    64    \n",
       "3  159    41    \n",
       "4  155    38    \n",
       "5  152    35    \n",
       "6  158    44    \n",
       "7  154    41    \n",
       "8  164    51    \n",
       "9  168    57    \n",
       "10 166    49    \n",
       "11 159    47    \n",
       "12 164    46    "
      ]
     },
     "metadata": {},
     "output_type": "display_data"
    }
   ],
   "source": [
    "x1 <- c(171,175,159,155,152,158,154,164,168,166,159,164)\n",
    "x2 <- c(57,64,41,38,35,44,41,51,57,49,47,46)\n",
    "X <- data.frame('Height'=x1,'Weight'=x2)\n",
    "X"
   ]
  },
  {
   "cell_type": "code",
   "execution_count": 24,
   "metadata": {
    "collapsed": true
   },
   "outputs": [
    {
     "data": {
      "text/html": [
       "<table class=\"dataframe\">\n",
       "<caption>A data.frame: 12 × 2</caption>\n",
       "<thead>\n",
       "\t<tr><th scope=col>Height</th><th scope=col>Weight</th></tr>\n",
       "\t<tr><th scope=col>&lt;dbl&gt;</th><th scope=col>&lt;dbl&gt;</th></tr>\n",
       "</thead>\n",
       "<tbody>\n",
       "\t<tr><td>171</td><td>57</td></tr>\n",
       "\t<tr><td>175</td><td>64</td></tr>\n",
       "\t<tr><td>159</td><td>41</td></tr>\n",
       "\t<tr><td>155</td><td>38</td></tr>\n",
       "\t<tr><td>152</td><td>35</td></tr>\n",
       "\t<tr><td>158</td><td>44</td></tr>\n",
       "\t<tr><td>154</td><td>41</td></tr>\n",
       "\t<tr><td>164</td><td>51</td></tr>\n",
       "\t<tr><td>168</td><td>57</td></tr>\n",
       "\t<tr><td>166</td><td>49</td></tr>\n",
       "\t<tr><td>159</td><td>47</td></tr>\n",
       "\t<tr><td>164</td><td>46</td></tr>\n",
       "</tbody>\n",
       "</table>\n"
      ],
      "text/latex": [
       "A data.frame: 12 × 2\n",
       "\\begin{tabular}{ll}\n",
       " Height & Weight\\\\\n",
       " <dbl> & <dbl>\\\\\n",
       "\\hline\n",
       "\t 171 & 57\\\\\n",
       "\t 175 & 64\\\\\n",
       "\t 159 & 41\\\\\n",
       "\t 155 & 38\\\\\n",
       "\t 152 & 35\\\\\n",
       "\t 158 & 44\\\\\n",
       "\t 154 & 41\\\\\n",
       "\t 164 & 51\\\\\n",
       "\t 168 & 57\\\\\n",
       "\t 166 & 49\\\\\n",
       "\t 159 & 47\\\\\n",
       "\t 164 & 46\\\\\n",
       "\\end{tabular}\n"
      ],
      "text/markdown": [
       "\n",
       "A data.frame: 12 × 2\n",
       "\n",
       "| Height &lt;dbl&gt; | Weight &lt;dbl&gt; |\n",
       "|---|---|\n",
       "| 171 | 57 |\n",
       "| 175 | 64 |\n",
       "| 159 | 41 |\n",
       "| 155 | 38 |\n",
       "| 152 | 35 |\n",
       "| 158 | 44 |\n",
       "| 154 | 41 |\n",
       "| 164 | 51 |\n",
       "| 168 | 57 |\n",
       "| 166 | 49 |\n",
       "| 159 | 47 |\n",
       "| 164 | 46 |\n",
       "\n"
      ],
      "text/plain": [
       "   Height Weight\n",
       "1  171    57    \n",
       "2  175    64    \n",
       "3  159    41    \n",
       "4  155    38    \n",
       "5  152    35    \n",
       "6  158    44    \n",
       "7  154    41    \n",
       "8  164    51    \n",
       "9  168    57    \n",
       "10 166    49    \n",
       "11 159    47    \n",
       "12 164    46    "
      ]
     },
     "metadata": {},
     "output_type": "display_data"
    }
   ],
   "source": []
  },
  {
   "cell_type": "code",
   "execution_count": null,
   "metadata": {},
   "outputs": [],
   "source": []
  }
 ],
 "metadata": {
  "kernelspec": {
   "display_name": "R",
   "language": "R",
   "name": "ir"
  },
  "language_info": {
   "codemirror_mode": "r",
   "file_extension": ".r",
   "mimetype": "text/x-r-source",
   "name": "R",
   "pygments_lexer": "r",
   "version": "4.1.2"
  }
 },
 "nbformat": 4,
 "nbformat_minor": 2
}
