{
 "cells": [
  {
   "cell_type": "code",
   "execution_count": 26,
   "metadata": {},
   "outputs": [],
   "source": [
    "Names <-c(\"n1\",\"n2\",\"n3\",\"n4\",\"n5\",\"n6\")\n",
    "Dmat <- data.frame(id = 1:4,value = c(34,56,78,56))\n",
    "Lst.stud <- list(Name = Names,ID = 1:4,score = Dmat)\n",
    "Dmat1 <- data.frame(Code1= rep(1:4,2),value1 = c(34,56,78,78,90,43,78,56))\n",
    "Dmat2 <- data.frame(Code2= rep(1:4,2),value2 = c(34,56,78,44,55,45,98,59))\n",
    "#unique(Dmat1$Code1)\n",
    "Se1 <- Dmat1[Dmat1$Code1 == 1,]\n",
    "Se2 <- Dmat2[Dmat2$Code2 > 1 | Dmat2$value2>50,]"
   ]
  },
  {
   "cell_type": "code",
   "execution_count": 28,
   "metadata": {},
   "outputs": [
    {
     "data": {
      "text/html": [
       "<style>\n",
       ".list-inline {list-style: none; margin:0; padding: 0}\n",
       ".list-inline>li {display: inline-block}\n",
       ".list-inline>li:not(:last-child)::after {content: \"\\00b7\"; padding: 0 .5ex}\n",
       "</style>\n",
       "<ol class=list-inline><li>90</li><li>78</li><li>78</li><li>78</li><li>56</li><li>56</li><li>43</li><li>34</li></ol>\n"
      ],
      "text/latex": [
       "\\begin{enumerate*}\n",
       "\\item 90\n",
       "\\item 78\n",
       "\\item 78\n",
       "\\item 78\n",
       "\\item 56\n",
       "\\item 56\n",
       "\\item 43\n",
       "\\item 34\n",
       "\\end{enumerate*}\n"
      ],
      "text/markdown": [
       "1. 90\n",
       "2. 78\n",
       "3. 78\n",
       "4. 78\n",
       "5. 56\n",
       "6. 56\n",
       "7. 43\n",
       "8. 34\n",
       "\n",
       "\n"
      ],
      "text/plain": [
       "[1] 90 78 78 78 56 56 43 34"
      ]
     },
     "metadata": {},
     "output_type": "display_data"
    }
   ],
   "source": [
    "Dmat1$value1[order(Dmat1$value1,decreasing = T)]"
   ]
  },
  {
   "cell_type": "code",
   "execution_count": 30,
   "metadata": {},
   "outputs": [
    {
     "data": {
      "image/png": "[encoded data removed]",
      "text/plain": [
       "Plot with title \"Scatter plot\""
      ]
     },
     "metadata": {
      "image/png": {
       "height": 420,
       "width": 420
      }
     },
     "output_type": "display_data"
    }
   ],
   "source": [
    "x <- 1:50\n",
    "y <-1:50+rnorm(50,0,5)\n",
    "plot(x,y,xlab = \"x value\",ylab = \"y value\",main = \"Scatter plot\",xlim = c(10,45),ylim = c(5,50))"
   ]
  },
  {
   "cell_type": "code",
   "execution_count": 32,
   "metadata": {},
   "outputs": [
    {
     "name": "stdout",
     "output_type": "stream",
     "text": [
      "[1] 1\n",
      "[1] 2\n",
      "[1] 3\n",
      "[1] 4\n",
      "[1] 5\n",
      "[1] 6\n",
      "[1] 7\n",
      "[1] 8\n",
      "[1] 9\n",
      "[1] 10\n",
      "[1] 11\n",
      "[1] 12\n",
      "[1] 13\n",
      "[1] 14\n",
      "[1] 15\n",
      "[1] 16\n",
      "[1] 17\n",
      "[1] 18\n",
      "[1] 19\n",
      "[1] 20\n",
      "[1] 21\n",
      "[1] 22\n",
      "[1] 23\n",
      "[1] 24\n",
      "[1] 25\n",
      "[1] 26\n",
      "[1] 27\n",
      "[1] 28\n",
      "[1] 29\n",
      "[1] 30\n",
      "[1] 31\n",
      "[1] 32\n",
      "[1] 33\n",
      "[1] 34\n",
      "[1] 35\n",
      "[1] 36\n",
      "[1] 37\n",
      "[1] 38\n",
      "[1] 39\n",
      "[1] 40\n"
     ]
    }
   ],
   "source": [
    "for (i in 1:40)\n",
    "    print(i)"
   ]
  },
  {
   "cell_type": "code",
   "execution_count": null,
   "metadata": {},
   "outputs": [],
   "source": []
  }
 ],
 "metadata": {
  "kernelspec": {
   "display_name": "R",
   "language": "R",
   "name": "ir"
  },
  "language_info": {
   "codemirror_mode": "r",
   "file_extension": ".r",
   "mimetype": "text/x-r-source",
   "name": "R",
   "pygments_lexer": "r",
   "version": "4.1.2"
  }
 },
 "nbformat": 4,
 "nbformat_minor": 2
}
