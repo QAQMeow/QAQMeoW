{
 "cells": [
  {
   "cell_type": "code",
   "execution_count": 3,
   "metadata": {},
   "outputs": [],
   "source": [
    "# 获取弹幕\n",
    "from bilibili_api import video\n",
    "from bs4 import BeautifulSoup\n",
    "import csv\n",
    "import time\n",
    "import pandas as pd\n",
    "\n",
    "# 参数：视频BV号 \n",
    "BVID = \"BV17J41197uD\"\n",
    "\n",
    "# 获取视频信息\n",
    "info = video.get_video_info(bvid=BVID)\n",
    "\n",
    "# 假设这里获取 p1 的最新弹幕信息，需要取出 page_id，即每 p 都有自己的编号\n",
    "page_id = info[\"pages\"][0][\"cid\"]\n",
    "\n",
    "# 然后开始获取弹幕\n",
    "danmakus = video.get_danmaku(bvid=BVID, page_id=page_id)\n",
    "\n",
    "dm_dict = {'Danmakus':'Danmakus','Time':'Time','Dm_time':'DmTime'}\n",
    "\n",
    "#运行前请删除原来的 Bilibili_Danmakus.csv 文件\n",
    "with open('../Data/Bilibili/Bilibili_Danmakus.csv','a',encoding='utf-8-sig',newline='') as f: \n",
    "    w = csv.writer(f)\n",
    "    w.writerow(dm_dict.keys())\n",
    "    for dm in danmakus:\n",
    "        dm_dict['Danmakus'] = dm.text\n",
    "        dm_dict['Time'] = dm.send_time\n",
    "        dm_dict['Dm_time'] = dm.dm_time\n",
    "        w.writerow(dm_dict.values())"
   ]
  },
  {
   "cell_type": "code",
   "execution_count": 4,
   "metadata": {},
   "outputs": [],
   "source": []
  }
 ],
 "metadata": {
  "kernelspec": {
   "display_name": "Python 3",
   "language": "python",
   "name": "python3"
  },
  "language_info": {
   "codemirror_mode": {
    "name": "ipython",
    "version": 3
   },
   "file_extension": ".py",
   "mimetype": "text/x-python",
   "name": "python",
   "nbconvert_exporter": "python",
   "pygments_lexer": "ipython3",
   "version": "3.7.4"
  }
 },
 "nbformat": 4,
 "nbformat_minor": 2
}
