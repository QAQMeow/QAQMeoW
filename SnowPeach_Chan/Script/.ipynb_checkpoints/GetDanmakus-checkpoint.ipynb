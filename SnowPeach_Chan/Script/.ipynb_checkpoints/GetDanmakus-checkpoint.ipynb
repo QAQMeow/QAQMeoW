{
 "cells": [
  {
   "cell_type": "code",
   "execution_count": 10,
   "metadata": {},
   "outputs": [],
   "source": [
    "import requests\n",
    "from bs4 import BeautifulSoup\n",
    "import csv\n",
    "import time\n",
    "import pandas as pd\n",
    "\n",
    "headers = {\n",
    "    'user-agent': 'Mozilla/5.0 (Windows NT 10.0; Win64; x64) AppleWebKit/537.36 (KHTML, like Gecko) Chrome/87.0.4280.141 Safari/537.36',\n",
    "    'cookie': \"_uuid=CDC8DD90-7CA9-9B77-AC7D-68CFB7D1920072502infoc; buvid3=38E4DFE6-FC47-4849-BEC0-8BA6C1563B1D58473infoc; CURRENT_FNVAL=80; blackside_state=1; rpdid=|(u||~u~uJ~|0J'uY|)u~)m|); fingerprint3=02a68fcd7f1b817f9d0477568fba6bc2; fingerprint_s=083a17b122016390d978994549c8850d; buivd_fp=38E4DFE6-FC47-4849-BEC0-8BA6C1563B1D58473infoc; buvid_fp_plain=38E4DFE6-FC47-4849-BEC0-8BA6C1563B1D58473infoc; CURRENT_QUALITY=80; sid=4z0xxpec; fingerprint=3e55f191cd00cf7a79254c2f3281d2a6; buvid_fp=38E4DFE6-FC47-4849-BEC0-8BA6C1563B1D58473infoc; DedeUserID=34552538; DedeUserID__ckMd5=ae9badbd39d4128a; SESSDATA=037ea0fb%2C1626574727%2C40ef7*11; bili_jct=fbca095e69100a3b39135aab636c157b\"\n",
    "}\n",
    "#加CSVheader\n",
    "f =open('F:/Jupyter/SnowPeach_Chan/Data/Bilibili/Bilibili_Barrage.csv','w',encoding='utf-8-sig',newline='')\n",
    "csv.writer(f).writerow('0')\n",
    "f.close()\n",
    "\n",
    "def get_infomation(url):\n",
    "    response = requests.get(url,headers=headers)\n",
    "    response.encoding = response.apparent_encoding\n",
    "    soup = BeautifulSoup(response.text,'html.parser')\n",
    "    d_list = soup.find_all('d')\n",
    "    #dm_dict = {'dm':'dm','time':'time'}\n",
    "    dm_dict = {'dm':'dm'}\n",
    "    for d in d_list:\n",
    "        dm_dict['dm']=d.string\n",
    "        now = int(d.get('p').split(',')[4])\n",
    "        #timeArray = time.localtime(now)\n",
    "       #otherStyleTime = time.strftime(\"%Y--%m--%d %H:%M:%S\", timeArray)\n",
    "        # print(otherStyleTime)\n",
    "        #dm_dict['time']= otherStyleTime\n",
    "        # print(dm_dict)\n",
    "        with open('F:/Jupyter/SnowPeach_Chan/Data/Bilibili/Bilibili_Barrage.csv','a',encoding='utf-8-sig',newline='') as f:\n",
    "            w = csv.writer(f)\n",
    "            # w.writerow(dm_dict.keys())\n",
    "            w.writerow(dm_dict.values())\n",
    "\n",
    "def get_date_list(begin_date,end_date):\n",
    "    date_list = [x.strftime('%Y-%m-%d') for x in list(pd.date_range(start=begin_date, end=end_date))]\n",
    "    return date_list\n",
    "\n",
    "if __name__ == \"__main__\":\n",
    "    date = get_date_list('2021-01-22','2021-01-22')\n",
    "    for i in date:\n",
    "        url = 'https://api.bilibili.com/x/v2/dm/history?type=1&oid=139333734&date={}'.format(i)\n",
    "        get_infomation(url)\n",
    "    \n"
   ]
  },
  {
   "cell_type": "code",
   "execution_count": 4,
   "metadata": {},
   "outputs": [],
   "source": [
    " t = time.strftime(\"%Y-%m-%d\", time.localtime())\n",
    "    "
   ]
  },
  {
   "cell_type": "code",
   "execution_count": 5,
   "metadata": {},
   "outputs": [
    {
     "data": {
      "text/plain": [
       "'2021-05-16'"
      ]
     },
     "execution_count": 5,
     "metadata": {},
     "output_type": "execute_result"
    }
   ],
   "source": [
    "t\n"
   ]
  },
  {
   "cell_type": "code",
   "execution_count": null,
   "metadata": {},
   "outputs": [],
   "source": []
  }
 ],
 "metadata": {
  "kernelspec": {
   "display_name": "Python 3",
   "language": "python",
   "name": "python3"
  },
  "language_info": {
   "codemirror_mode": {
    "name": "ipython",
    "version": 3
   },
   "file_extension": ".py",
   "mimetype": "text/x-python",
   "name": "python",
   "nbconvert_exporter": "python",
   "pygments_lexer": "ipython3",
   "version": "3.7.4"
  }
 },
 "nbformat": 4,
 "nbformat_minor": 2
}
