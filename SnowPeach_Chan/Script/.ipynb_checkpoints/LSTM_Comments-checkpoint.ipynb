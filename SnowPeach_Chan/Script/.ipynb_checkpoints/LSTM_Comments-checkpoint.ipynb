{
 "cells": [
  {
   "cell_type": "code",
   "execution_count": 1,
   "metadata": {},
   "outputs": [
    {
     "name": "stderr",
     "output_type": "stream",
     "text": [
      "Using TensorFlow backend.\n",
      "Building prefix dict from the default dictionary ...\n",
      "Loading model from cache C:\\Users\\dell\\AppData\\Local\\Temp\\jieba.cache\n",
      "Loading model cost 0.587 seconds.\n",
      "Prefix dict has been built successfully.\n"
     ]
    }
   ],
   "source": [
    "import tensorflow as tf\n",
    "import numpy as np\n",
    "import pandas as pd\n",
    "import matplotlib.pyplot as plt\n",
    "import time\n",
    "import csv\n",
    "import netCDF4 as nc\n",
    "from datetime import datetime, timedelta\n",
    "import jieba\n",
    "import string\n",
    "import zhon.hanzi\n",
    "import re\n",
    "import keras\n",
    "\n",
    "Comm_Path = 'F:/Jupyter/SnowPeach_Chan/Data/Douban/HibiscusTown_Comments.csv'\n",
    "Barr_Path = 'F:/Jupyter/SnowPeach_Chan/Data/Bilibili/Bilibili_Barrage.csv'\n",
    "\n",
    "Comments = pd.read_csv(Comm_Path,usecols=[1],encoding='utf-8-sig')\n",
    "Stars = pd.read_csv(Comm_Path,usecols=[2],encoding='utf-8-sig')\n",
    "Barrage = pd.read_csv(Barr_Path,usecols=[0],encoding='utf-8-sig')\n",
    "\n",
    "score = Stars.to_dict('list')['1']\n",
    "comments =Comments.to_dict('list')['0']\n",
    "barrage = Barrage.to_dict('list')['0']\n",
    "for i in range(len(score)):\n",
    "    if score[i] == '力荐':\n",
    "        score[i]= 5\n",
    "    if score[i] == '推荐':\n",
    "        score[i]= 4\n",
    "    if score[i]== '还行':\n",
    "        score[i]= 3\n",
    "    if score[i] == '较差':\n",
    "        score[i]= 2\n",
    "    if score[i] == '很差':\n",
    "        score[i]= 1\n",
    "        \n",
    "def LenMax(data):\n",
    "    lmax = 0\n",
    "    for i in data:\n",
    "        if len(i)>= lmax:\n",
    "            lmax = len(i)\n",
    "    return lmax\n",
    "\n",
    "def PaddingData(data,Lmax):\n",
    "    for i in range(len(data)):\n",
    "        if len(data[i])<Lmax:\n",
    "            data[i] = data[i]+[' ']*(Lmax-len(data[i]))\n",
    "    return np.array(data)\n",
    "\n",
    "def deltePunc(data):#删除标点符号\n",
    "    signtext = zhon.hanzi.punctuation\n",
    "    signtext2 = string.punctuation\n",
    "    for i in range(len(data)):\n",
    "        data[i] =  ''.join(re.findall(r'[\\u4e00-\\u9fa5]', data[i]))\n",
    "        #data[i] = re.sub(\"[{}]+\".format(signtext2),\"\",data[i])\n",
    "        data[i] = jieba.cut(data[i],cut_all=False)\n",
    "        data[i] = ' '.join(data[i]).split()\n",
    "    return data\n",
    "def Remove(data):\n",
    "    for i in range(len(data)):\n",
    "        for j in data[i]:\n",
    "            if j == ' ':\n",
    "                data[i].remove(j)\n",
    "    return data\n",
    "\n",
    "train_X = comments\n",
    "test_X = barrage\n",
    "train_Y = np.array(score)\n",
    "Lmax = LenMax(train_X)\n",
    "train_X = deltePunc(train_X)\n",
    "test_X = deltePunc(test_X)\n",
    "\n"
   ]
  },
  {
   "cell_type": "code",
   "execution_count": 2,
   "metadata": {},
   "outputs": [
    {
     "name": "stdout",
     "output_type": "stream",
     "text": [
      "共有 5280 个不相同的词语.\n",
      "(488, 183) (488, 5)\n"
     ]
    },
    {
     "data": {
      "text/plain": [
       "183"
      ]
     },
     "execution_count": 2,
     "metadata": {},
     "output_type": "execute_result"
    }
   ],
   "source": [
    "Tokenizer = tf.keras.preprocessing.text.Tokenizer\n",
    "pad_sequences = tf.keras.preprocessing.sequence.pad_sequences\n",
    "tokenizer = Tokenizer(num_words=5280, filters='!\"#$%&()*+,-./:;<=>?@[\\]^_`{|}~', lower=True)\n",
    "tokenizer.fit_on_texts(train_X)\n",
    "word_index = tokenizer.word_index\n",
    "print('共有 %s 个不相同的词语.' % len(word_index))\n",
    "X = tokenizer.texts_to_sequences(train_X)\n",
    "Xt = tokenizer.texts_to_sequences(test_X)\n",
    "l = LenMax(X)\n",
    "#填充X,让X的各个列的长度统一\n",
    "X = pad_sequences(X, maxlen=l)\n",
    "Xt = pad_sequences(Xt,l)\n",
    "#多类标签的onehot展开\n",
    "Y = pd.get_dummies(train_Y)\n",
    "print(X.shape,Y.shape)\n",
    "LenMax(X)"
   ]
  },
  {
   "cell_type": "code",
   "execution_count": 3,
   "metadata": {},
   "outputs": [
    {
     "name": "stdout",
     "output_type": "stream",
     "text": [
      "WARNING:tensorflow:From D:\\Anaconda\\envs\\python36\\lib\\site-packages\\tensorflow_core\\python\\keras\\initializers.py:119: calling RandomUniform.__init__ (from tensorflow.python.ops.init_ops) with dtype is deprecated and will be removed in a future version.\n",
      "Instructions for updating:\n",
      "Call initializer instance with the dtype argument instead of passing it to the constructor\n",
      "WARNING:tensorflow:From D:\\Anaconda\\envs\\python36\\lib\\site-packages\\tensorflow_core\\python\\ops\\resource_variable_ops.py:1630: calling BaseResourceVariable.__init__ (from tensorflow.python.ops.resource_variable_ops) with constraint is deprecated and will be removed in a future version.\n",
      "Instructions for updating:\n",
      "If using Keras pass *_constraint arguments to layers.\n",
      "Model: \"sequential\"\n",
      "_________________________________________________________________\n",
      "Layer (type)                 Output Shape              Param #   \n",
      "=================================================================\n",
      "embedding (Embedding)        (None, 183, 488)          2576640   \n",
      "_________________________________________________________________\n",
      "lstm (LSTM)                  (None, 15)                30240     \n",
      "_________________________________________________________________\n",
      "dense (Dense)                (None, 5)                 80        \n",
      "=================================================================\n",
      "Total params: 2,606,960\n",
      "Trainable params: 2,606,960\n",
      "Non-trainable params: 0\n",
      "_________________________________________________________________\n",
      "None\n",
      "WARNING:tensorflow:From D:\\Anaconda\\envs\\python36\\lib\\site-packages\\tensorflow_core\\python\\ops\\math_grad.py:1424: where (from tensorflow.python.ops.array_ops) is deprecated and will be removed in a future version.\n",
      "Instructions for updating:\n",
      "Use tf.where in 2.0, which has the same broadcast rule as np.where\n",
      "Train on 326 samples, validate on 162 samples\n",
      "Epoch 1/50\n",
      "326/326 [==============================] - 3s 8ms/sample - loss: 0.1562 - acc: 0.5061 - val_loss: 0.1487 - val_acc: 0.6111\n",
      "Epoch 2/50\n",
      "326/326 [==============================] - 2s 6ms/sample - loss: 0.1374 - acc: 0.7546 - val_loss: 0.1278 - val_acc: 0.6728\n",
      "Epoch 3/50\n",
      "326/326 [==============================] - 2s 6ms/sample - loss: 0.1085 - acc: 0.6933 - val_loss: 0.1056 - val_acc: 0.6728\n",
      "Epoch 4/50\n",
      "326/326 [==============================] - 2s 6ms/sample - loss: 0.0856 - acc: 0.6810 - val_loss: 0.0994 - val_acc: 0.6728\n",
      "Epoch 5/50\n",
      "326/326 [==============================] - 2s 6ms/sample - loss: 0.0632 - acc: 0.8589 - val_loss: 0.1002 - val_acc: 0.6728\n",
      "Epoch 6/50\n",
      "326/326 [==============================] - 3s 9ms/sample - loss: 0.0392 - acc: 0.9202 - val_loss: 0.1008 - val_acc: 0.6358\n",
      "Epoch 7/50\n",
      "326/326 [==============================] - 2s 6ms/sample - loss: 0.0243 - acc: 0.9448 - val_loss: 0.1083 - val_acc: 0.5741\n",
      "Epoch 8/50\n",
      "326/326 [==============================] - 2s 6ms/sample - loss: 0.0178 - acc: 0.9571 - val_loss: 0.1053 - val_acc: 0.6605\n",
      "Epoch 9/50\n",
      "326/326 [==============================] - 2s 6ms/sample - loss: 0.0142 - acc: 0.9601 - val_loss: 0.1154 - val_acc: 0.5679\n",
      "Epoch 10/50\n",
      "326/326 [==============================] - 2s 6ms/sample - loss: 0.0122 - acc: 0.9693 - val_loss: 0.1091 - val_acc: 0.6358\n",
      "Epoch 11/50\n",
      "326/326 [==============================] - 2s 6ms/sample - loss: 0.0109 - acc: 0.9724 - val_loss: 0.1108 - val_acc: 0.6173\n",
      "Epoch 12/50\n",
      "326/326 [==============================] - 2s 6ms/sample - loss: 0.0098 - acc: 0.9693 - val_loss: 0.1138 - val_acc: 0.5988\n",
      "Epoch 13/50\n",
      "326/326 [==============================] - 2s 6ms/sample - loss: 0.0087 - acc: 0.9847 - val_loss: 0.1121 - val_acc: 0.6173\n",
      "Epoch 14/50\n",
      "326/326 [==============================] - 3s 8ms/sample - loss: 0.0081 - acc: 0.9816 - val_loss: 0.1171 - val_acc: 0.5679\n",
      "Epoch 15/50\n",
      "326/326 [==============================] - 2s 6ms/sample - loss: 0.0071 - acc: 0.9877 - val_loss: 0.1141 - val_acc: 0.6111\n",
      "Epoch 16/50\n",
      "326/326 [==============================] - 2s 6ms/sample - loss: 0.0066 - acc: 0.9847 - val_loss: 0.1140 - val_acc: 0.6111\n",
      "Epoch 17/50\n",
      "326/326 [==============================] - 2s 6ms/sample - loss: 0.0060 - acc: 0.9939 - val_loss: 0.1154 - val_acc: 0.6111\n",
      "Epoch 18/50\n",
      "326/326 [==============================] - 2s 6ms/sample - loss: 0.0054 - acc: 0.9939 - val_loss: 0.1152 - val_acc: 0.6235\n",
      "Epoch 19/50\n",
      "326/326 [==============================] - 2s 6ms/sample - loss: 0.0049 - acc: 0.9939 - val_loss: 0.1154 - val_acc: 0.6235\n",
      "Epoch 20/50\n",
      "326/326 [==============================] - 2s 6ms/sample - loss: 0.0045 - acc: 0.9969 - val_loss: 0.1155 - val_acc: 0.6235\n",
      "Epoch 21/50\n",
      "326/326 [==============================] - 2s 6ms/sample - loss: 0.0042 - acc: 1.0000 - val_loss: 0.1165 - val_acc: 0.6111\n",
      "Epoch 22/50\n",
      "326/326 [==============================] - 3s 9ms/sample - loss: 0.0037 - acc: 1.0000 - val_loss: 0.1164 - val_acc: 0.6296\n",
      "Epoch 23/50\n",
      "326/326 [==============================] - 2s 6ms/sample - loss: 0.0034 - acc: 1.0000 - val_loss: 0.1162 - val_acc: 0.6296\n",
      "Epoch 24/50\n",
      "326/326 [==============================] - 2s 6ms/sample - loss: 0.0030 - acc: 1.0000 - val_loss: 0.1164 - val_acc: 0.6296\n",
      "Epoch 25/50\n",
      "326/326 [==============================] - 2s 6ms/sample - loss: 0.0028 - acc: 1.0000 - val_loss: 0.1166 - val_acc: 0.6296\n",
      "Epoch 26/50\n",
      "326/326 [==============================] - 2s 6ms/sample - loss: 0.0025 - acc: 1.0000 - val_loss: 0.1167 - val_acc: 0.6358\n",
      "Epoch 27/50\n",
      "326/326 [==============================] - 2s 6ms/sample - loss: 0.0023 - acc: 1.0000 - val_loss: 0.1167 - val_acc: 0.6358\n",
      "Epoch 28/50\n",
      "326/326 [==============================] - 2s 6ms/sample - loss: 0.0021 - acc: 1.0000 - val_loss: 0.1170 - val_acc: 0.6358\n",
      "Epoch 29/50\n",
      "326/326 [==============================] - 2s 7ms/sample - loss: 0.0019 - acc: 1.0000 - val_loss: 0.1173 - val_acc: 0.6358\n",
      "Epoch 30/50\n",
      "326/326 [==============================] - 3s 8ms/sample - loss: 0.0017 - acc: 1.0000 - val_loss: 0.1174 - val_acc: 0.6358\n",
      "Epoch 31/50\n",
      "326/326 [==============================] - 2s 6ms/sample - loss: 0.0015 - acc: 1.0000 - val_loss: 0.1173 - val_acc: 0.6358\n",
      "Epoch 32/50\n",
      "326/326 [==============================] - 2s 6ms/sample - loss: 0.0014 - acc: 1.0000 - val_loss: 0.1172 - val_acc: 0.6358\n",
      "Epoch 33/50\n",
      "326/326 [==============================] - 2s 6ms/sample - loss: 0.0013 - acc: 1.0000 - val_loss: 0.1170 - val_acc: 0.6420\n",
      "Epoch 34/50\n",
      "326/326 [==============================] - 2s 6ms/sample - loss: 0.0012 - acc: 1.0000 - val_loss: 0.1174 - val_acc: 0.6358\n",
      "Epoch 35/50\n",
      "326/326 [==============================] - 2s 6ms/sample - loss: 0.0011 - acc: 1.0000 - val_loss: 0.1166 - val_acc: 0.6420\n",
      "Epoch 36/50\n",
      "326/326 [==============================] - 2s 6ms/sample - loss: 9.7181e-04 - acc: 1.0000 - val_loss: 0.1169 - val_acc: 0.6420\n",
      "Epoch 37/50\n",
      "326/326 [==============================] - 2s 7ms/sample - loss: 9.1379e-04 - acc: 1.0000 - val_loss: 0.1173 - val_acc: 0.6173\n",
      "Epoch 38/50\n",
      "326/326 [==============================] - 3s 8ms/sample - loss: 8.1761e-04 - acc: 1.0000 - val_loss: 0.1164 - val_acc: 0.6358\n",
      "Epoch 39/50\n",
      "326/326 [==============================] - 2s 6ms/sample - loss: 7.4625e-04 - acc: 1.0000 - val_loss: 0.1163 - val_acc: 0.6358\n",
      "Epoch 40/50\n",
      "326/326 [==============================] - 2s 7ms/sample - loss: 6.9689e-04 - acc: 1.0000 - val_loss: 0.1173 - val_acc: 0.6173\n",
      "Epoch 41/50\n",
      "326/326 [==============================] - 2s 6ms/sample - loss: 6.1883e-04 - acc: 1.0000 - val_loss: 0.1170 - val_acc: 0.6235\n",
      "Epoch 42/50\n",
      "326/326 [==============================] - 2s 6ms/sample - loss: 5.6199e-04 - acc: 1.0000 - val_loss: 0.1162 - val_acc: 0.6420\n",
      "Epoch 43/50\n",
      "326/326 [==============================] - 2s 6ms/sample - loss: 5.1039e-04 - acc: 1.0000 - val_loss: 0.1169 - val_acc: 0.6235\n",
      "Epoch 44/50\n",
      "326/326 [==============================] - 2s 6ms/sample - loss: 4.6469e-04 - acc: 1.0000 - val_loss: 0.1174 - val_acc: 0.6235\n",
      "Epoch 45/50\n",
      "326/326 [==============================] - 3s 8ms/sample - loss: 4.1107e-04 - acc: 1.0000 - val_loss: 0.1169 - val_acc: 0.6358\n",
      "Epoch 46/50\n",
      "326/326 [==============================] - 2s 6ms/sample - loss: 3.8111e-04 - acc: 1.0000 - val_loss: 0.1172 - val_acc: 0.6358\n",
      "Epoch 47/50\n",
      "326/326 [==============================] - 2s 6ms/sample - loss: 3.4413e-04 - acc: 1.0000 - val_loss: 0.1171 - val_acc: 0.6420\n",
      "Epoch 48/50\n",
      "326/326 [==============================] - 2s 6ms/sample - loss: 3.1718e-04 - acc: 1.0000 - val_loss: 0.1176 - val_acc: 0.6358\n",
      "Epoch 49/50\n",
      "326/326 [==============================] - 2s 6ms/sample - loss: 2.9800e-04 - acc: 1.0000 - val_loss: 0.1175 - val_acc: 0.6481\n",
      "Epoch 50/50\n",
      "326/326 [==============================] - 2s 6ms/sample - loss: 2.7090e-04 - acc: 1.0000 - val_loss: 0.1176 - val_acc: 0.6481\n"
     ]
    }
   ],
   "source": [
    "model = tf.keras.models.Sequential()\n",
    "model.add(tf.keras.layers.Embedding(5280,X.shape[0],input_length=X.shape[1]))\n",
    "model.add(tf.keras.layers.LSTM(15))\n",
    "model.add(tf.keras.layers.Dense(5, activation='softmax'))\n",
    "model.compile(loss='mse', optimizer='adam', metrics=['accuracy'])\n",
    "print(model.summary())\n",
    "\n",
    "\n",
    "history = model.fit(X, Y, epochs=50,validation_split=0.33)\n",
    "model.save(\"../Result/Model_1\")"
   ]
  },
  {
   "cell_type": "code",
   "execution_count": 4,
   "metadata": {},
   "outputs": [
    {
     "name": "stdout",
     "output_type": "stream",
     "text": [
      "WARNING:tensorflow:From D:\\Anaconda\\envs\\python36\\lib\\site-packages\\tensorflow_core\\python\\ops\\init_ops.py:97: calling GlorotUniform.__init__ (from tensorflow.python.ops.init_ops) with dtype is deprecated and will be removed in a future version.\n",
      "Instructions for updating:\n",
      "Call initializer instance with the dtype argument instead of passing it to the constructor\n",
      "WARNING:tensorflow:From D:\\Anaconda\\envs\\python36\\lib\\site-packages\\tensorflow_core\\python\\ops\\init_ops.py:97: calling Orthogonal.__init__ (from tensorflow.python.ops.init_ops) with dtype is deprecated and will be removed in a future version.\n",
      "Instructions for updating:\n",
      "Call initializer instance with the dtype argument instead of passing it to the constructor\n",
      "WARNING:tensorflow:From D:\\Anaconda\\envs\\python36\\lib\\site-packages\\tensorflow_core\\python\\ops\\init_ops.py:97: calling Zeros.__init__ (from tensorflow.python.ops.init_ops) with dtype is deprecated and will be removed in a future version.\n",
      "Instructions for updating:\n",
      "Call initializer instance with the dtype argument instead of passing it to the constructor\n"
     ]
    }
   ],
   "source": [
    "model = tf.keras.models.load_model(\"../Result/Model_1\")\n",
    "pre = model.predict(Xt)"
   ]
  },
  {
   "cell_type": "code",
   "execution_count": 5,
   "metadata": {},
   "outputs": [],
   "source": [
    "s = []\n",
    "for i in pre:\n",
    "    \n",
    "    for j  in range(5):\n",
    "        if i[j]==max(i):\n",
    "            s.append(j+1)\n",
    "            A = [0,0,0,0,0]\n",
    "for i in s:\n",
    "    if i == 1:\n",
    "        A[0]+=1\n",
    "    if i == 2:\n",
    "        A[1]+=1\n",
    "    if i == 3:\n",
    "        A[2]+=1\n",
    "    if i == 4:\n",
    "        A[3]+=1\n",
    "    if i == 5:\n",
    "        A[4]+=1\n",
    "        \n",
    "B  = [0,0,0,0,0]\n",
    "for i in score:\n",
    "    if i == 1:\n",
    "        B[0]+=1\n",
    "    if i == 2:\n",
    "        B[1]+=1\n",
    "    if i == 3:\n",
    "        B[2]+=1\n",
    "    if i == 4:\n",
    "        B[3]+=1\n",
    "    if i == 5:\n",
    "        B[4]+=1"
   ]
  },
  {
   "cell_type": "code",
   "execution_count": 6,
   "metadata": {
    "scrolled": true
   },
   "outputs": [
    {
     "name": "stdout",
     "output_type": "stream",
     "text": [
      "接受程度  1   2   3   4   5  \n",
      "Bilibi   [0, 2, 0, 1256, 5172]\n",
      "Douban   [2, 4, 17, 137, 328]\n"
     ]
    }
   ],
   "source": [
    "print('接受程度',' 1  ','2  ','3  ','4  ','5  ')\n",
    "print('Bilibi  ',A)\n",
    "print('Douban  ',B)"
   ]
  },
  {
   "cell_type": "code",
   "execution_count": 7,
   "metadata": {},
   "outputs": [
    {
     "data": {
      "text/plain": [
       "<BarContainer object of 5 artists>"
      ]
     },
     "execution_count": 7,
     "metadata": {},
     "output_type": "execute_result"
    },
    {
     "data": {
      "image/png": "[encoded data removed]",
      "text/plain": [
       "<Figure size 432x288 with 1 Axes>"
      ]
     },
     "metadata": {
      "needs_background": "light"
     },
     "output_type": "display_data"
    }
   ],
   "source": [
    "X_label = [\"1\",\"2\",\"3\",\"4\",\"5\"]\n",
    "import matplotlib.pyplot as plt\n",
    "plt.bar(X_label,A)"
   ]
  },
  {
   "cell_type": "code",
   "execution_count": 8,
   "metadata": {},
   "outputs": [
    {
     "data": {
      "text/plain": [
       "[0, 2, 0, 1256, 5172]"
      ]
     },
     "execution_count": 8,
     "metadata": {},
     "output_type": "execute_result"
    }
   ],
   "source": [
    "A"
   ]
  },
  {
   "cell_type": "code",
   "execution_count": 9,
   "metadata": {},
   "outputs": [
    {
     "data": {
      "text/plain": [
       "(6430, 183)"
      ]
     },
     "execution_count": 9,
     "metadata": {},
     "output_type": "execute_result"
    }
   ],
   "source": [
    "Xt.shape"
   ]
  },
  {
   "cell_type": "code",
   "execution_count": 10,
   "metadata": {},
   "outputs": [
    {
     "data": {
      "text/plain": [
       "array([0.00599482, 0.01188942, 0.02228447, 0.7000215 , 0.25980982],\n",
       "      dtype=float32)"
      ]
     },
     "execution_count": 10,
     "metadata": {},
     "output_type": "execute_result"
    }
   ],
   "source": [
    "pre[1]"
   ]
  },
  {
   "cell_type": "code",
   "execution_count": 31,
   "metadata": {},
   "outputs": [
    {
     "data": {
      "image/png": "[encoded data removed]",
      "text/plain": [
       "<Figure size 640x480 with 1 Axes>"
      ]
     },
     "metadata": {
      "needs_background": "light"
     },
     "output_type": "display_data"
    }
   ],
   "source": [
    "X = [0]*5\n",
    "for i in pre:\n",
    "    for j in range(5):\n",
    "        X[j]+=i[j]\n",
    "\n",
    "for  i in range(5):\n",
    "    X[i] = X[i]/pre.shape[0]\n",
    "\n",
    "plt.figure(figsize=(16,12), dpi=40)\n",
    "plt.title(\"Barrage Probability Distribution\",size = 40) \n",
    "plt.xlabel(\"Number of star\",size = 35) \n",
    "plt.xticks([1,2,3,4,5],size = 30)\n",
    "plt.yticks(size = 30)\n",
    "plt.ylabel(\"Probability\",size = 35) \n",
    "plt.bar([1,2,3,4,5],X,alpha=0.4,width =0.6)\n",
    "plt.savefig(\"../Result/ProbabilityDistribution.png\")\n",
    "plt.show()"
   ]
  },
  {
   "cell_type": "code",
   "execution_count": 47,
   "metadata": {},
   "outputs": [
    {
     "data": {
      "text/plain": [
       "6430"
      ]
     },
     "execution_count": 47,
     "metadata": {},
     "output_type": "execute_result"
    }
   ],
   "source": []
  },
  {
   "cell_type": "code",
   "execution_count": null,
   "metadata": {},
   "outputs": [],
   "source": []
  }
 ],
 "metadata": {
  "kernelspec": {
   "display_name": "Python 3",
   "language": "python",
   "name": "python3"
  },
  "language_info": {
   "codemirror_mode": {
    "name": "ipython",
    "version": 3
   },
   "file_extension": ".py",
   "mimetype": "text/x-python",
   "name": "python",
   "nbconvert_exporter": "python",
   "pygments_lexer": "ipython3",
   "version": "3.7.4"
  }
 },
 "nbformat": 4,
 "nbformat_minor": 2
}
